{
 "cells": [
  {
   "cell_type": "markdown",
   "metadata": {},
   "source": [
    "#Analise e Tratamento Basico (Triagem) de dados\n",
    "Analises por Hans. 2015\n",
    "\n",
    "* 2012 (10sec)\n",
    "* 2013 (10sec)\n",
    "* 2014 (10sec ate 1Min seguinte)\n",
    "* 2015 (1Min)\n",
    "\n",
    "----"
   ]
  },
  {
   "cell_type": "code",
   "execution_count": 2,
   "metadata": {
    "collapsed": false
   },
   "outputs": [
    {
     "name": "stdout",
     "output_type": "stream",
     "text": [
      "3.4.2 (default, Oct  8 2014, 13:08:17) \n",
      "[GCC 4.9.1]\n",
      "1.9.2\n"
     ]
    }
   ],
   "source": [
    "import sys\n",
    "import numpy as np\n",
    "import pandas as pd\n",
    "print(sys.version) # Versao do python - Opcional\n",
    "print(np.__version__) # VErsao do modulo numpy - Opcional\n",
    "import matplotlib\n",
    "import matplotlib.pyplot as plt\n",
    "%matplotlib inline\n",
    "import datetime\n",
    "import time"
   ]
  },
  {
   "cell_type": "code",
   "execution_count": 10,
   "metadata": {
    "collapsed": false
   },
   "outputs": [],
   "source": [
    "#?pd.date_range\n",
    "#rng = pd.date_range('1/1/2011', periods=90, freq='10mS')\n",
    "#rng"
   ]
  },
  {
   "cell_type": "code",
   "execution_count": 3,
   "metadata": {
    "collapsed": false
   },
   "outputs": [
    {
     "name": "stdout",
     "output_type": "stream",
     "text": [
      "Dados Importados OK\n"
     ]
    }
   ],
   "source": [
    "# Carregando dados no dataframe df_dados a partir do arquivo .csv em servidor remoto.\n",
    "#df_dados = pd.read_csv('http://fortran-zrhans.c9.io/csdapy/sr311-2014.csv', index_col=None)\n",
    "\n",
    "#Dados local\n",
    "#df_dados = pd.read_csv('../dados/sr311-2011.csv', index_col=None,parse_dates=['Timestamp'])\n",
    "df_dados = pd.read_csv('sr311-2011.csv', index_col=None,parse_dates=['Timestamp'])\n",
    "\n",
    "\n",
    "print(\"Dados Importados OK\")"
   ]
  },
  {
   "cell_type": "code",
   "execution_count": 4,
   "metadata": {
    "collapsed": false
   },
   "outputs": [
    {
     "data": {
      "text/plain": [
       "['Unnamed: 0',\n",
       " 'Timestamp',\n",
       " 'Rain_mm',\n",
       " 'AirTCmin',\n",
       " 'WS_msmin',\n",
       " 'AirTCmax',\n",
       " 'WS_msmax',\n",
       " 'AirTCsd',\n",
       " 'WS_mssd',\n",
       " 'BP_mbar',\n",
       " 'T108_C',\n",
       " 'RH',\n",
       " 'AirTC',\n",
       " 'SlrW',\n",
       " 'WindDirs',\n",
       " 'WS_msa',\n",
       " 'WindDir_SD1_WVT',\n",
       " 'WindDir_D1_WVT',\n",
       " 'WS_ms_S_WVT',\n",
       " 'PanelTemperature',\n",
       " 'Status',\n",
       " 'Battery']"
      ]
     },
     "execution_count": 4,
     "metadata": {},
     "output_type": "execute_result"
    }
   ],
   "source": [
    "#Verificanco o nome das colunas\n",
    "df_dados.columns.tolist()\n"
   ]
  },
  {
   "cell_type": "code",
   "execution_count": 6,
   "metadata": {
    "collapsed": false
   },
   "outputs": [
    {
     "data": {
      "text/html": [
       "<div style=\"max-height:1000px;max-width:1500px;overflow:auto;\">\n",
       "<table border=\"1\" class=\"dataframe\">\n",
       "  <thead>\n",
       "    <tr style=\"text-align: right;\">\n",
       "      <th></th>\n",
       "      <th>Unnamed: 0</th>\n",
       "      <th>Timestamp</th>\n",
       "      <th>Rain_mm</th>\n",
       "      <th>AirTCmin</th>\n",
       "      <th>WS_msmin</th>\n",
       "      <th>AirTCmax</th>\n",
       "      <th>WS_msmax</th>\n",
       "      <th>AirTCsd</th>\n",
       "      <th>WS_mssd</th>\n",
       "      <th>BP_mbar</th>\n",
       "      <th>...</th>\n",
       "      <th>AirTC</th>\n",
       "      <th>SlrW</th>\n",
       "      <th>WindDirs</th>\n",
       "      <th>WS_msa</th>\n",
       "      <th>WindDir_SD1_WVT</th>\n",
       "      <th>WindDir_D1_WVT</th>\n",
       "      <th>WS_ms_S_WVT</th>\n",
       "      <th>PanelTemperature</th>\n",
       "      <th>Status</th>\n",
       "      <th>Battery</th>\n",
       "    </tr>\n",
       "  </thead>\n",
       "  <tbody>\n",
       "    <tr>\n",
       "      <th>0</th>\n",
       "      <td>0</td>\n",
       "      <td>2011-12-01 15:15:00</td>\n",
       "      <td>0</td>\n",
       "      <td>19.09</td>\n",
       "      <td>5.45</td>\n",
       "      <td>19.23</td>\n",
       "      <td>7.7</td>\n",
       "      <td>0.044</td>\n",
       "      <td>0.675</td>\n",
       "      <td>953</td>\n",
       "      <td>...</td>\n",
       "      <td>19.17</td>\n",
       "      <td>893</td>\n",
       "      <td>63.72</td>\n",
       "      <td>6.725</td>\n",
       "      <td>6.472</td>\n",
       "      <td>63.01</td>\n",
       "      <td>6.725</td>\n",
       "      <td>23.04</td>\n",
       "      <td>0</td>\n",
       "      <td>13.89</td>\n",
       "    </tr>\n",
       "    <tr>\n",
       "      <th>1</th>\n",
       "      <td>1</td>\n",
       "      <td>2011-12-01 15:15:10</td>\n",
       "      <td>0</td>\n",
       "      <td>19.09</td>\n",
       "      <td>3.95</td>\n",
       "      <td>19.26</td>\n",
       "      <td>6.2</td>\n",
       "      <td>0.052</td>\n",
       "      <td>0.654</td>\n",
       "      <td>953</td>\n",
       "      <td>...</td>\n",
       "      <td>19.16</td>\n",
       "      <td>892</td>\n",
       "      <td>70.01</td>\n",
       "      <td>5.300</td>\n",
       "      <td>4.752</td>\n",
       "      <td>73.68</td>\n",
       "      <td>5.300</td>\n",
       "      <td>23.09</td>\n",
       "      <td>0</td>\n",
       "      <td>13.86</td>\n",
       "    </tr>\n",
       "    <tr>\n",
       "      <th>2</th>\n",
       "      <td>2</td>\n",
       "      <td>2011-12-01 15:15:20</td>\n",
       "      <td>0</td>\n",
       "      <td>19.13</td>\n",
       "      <td>4.70</td>\n",
       "      <td>19.26</td>\n",
       "      <td>6.2</td>\n",
       "      <td>0.043</td>\n",
       "      <td>0.654</td>\n",
       "      <td>953</td>\n",
       "      <td>...</td>\n",
       "      <td>19.17</td>\n",
       "      <td>889</td>\n",
       "      <td>78.31</td>\n",
       "      <td>5.300</td>\n",
       "      <td>6.596</td>\n",
       "      <td>79.16</td>\n",
       "      <td>5.300</td>\n",
       "      <td>23.15</td>\n",
       "      <td>0</td>\n",
       "      <td>13.91</td>\n",
       "    </tr>\n",
       "  </tbody>\n",
       "</table>\n",
       "<p>3 rows × 22 columns</p>\n",
       "</div>"
      ],
      "text/plain": [
       "   Unnamed: 0           Timestamp  Rain_mm  AirTCmin  WS_msmin  AirTCmax  \\\n",
       "0           0 2011-12-01 15:15:00        0     19.09      5.45     19.23   \n",
       "1           1 2011-12-01 15:15:10        0     19.09      3.95     19.26   \n",
       "2           2 2011-12-01 15:15:20        0     19.13      4.70     19.26   \n",
       "\n",
       "   WS_msmax  AirTCsd  WS_mssd  BP_mbar   ...     AirTC  SlrW  WindDirs  \\\n",
       "0       7.7    0.044    0.675      953   ...     19.17   893     63.72   \n",
       "1       6.2    0.052    0.654      953   ...     19.16   892     70.01   \n",
       "2       6.2    0.043    0.654      953   ...     19.17   889     78.31   \n",
       "\n",
       "   WS_msa  WindDir_SD1_WVT  WindDir_D1_WVT  WS_ms_S_WVT  PanelTemperature  \\\n",
       "0   6.725            6.472           63.01        6.725             23.04   \n",
       "1   5.300            4.752           73.68        5.300             23.09   \n",
       "2   5.300            6.596           79.16        5.300             23.15   \n",
       "\n",
       "   Status  Battery  \n",
       "0       0    13.89  \n",
       "1       0    13.86  \n",
       "2       0    13.91  \n",
       "\n",
       "[3 rows x 22 columns]"
      ]
     },
     "execution_count": 6,
     "metadata": {},
     "output_type": "execute_result"
    }
   ],
   "source": [
    "df_dados.head(3)"
   ]
  },
  {
   "cell_type": "code",
   "execution_count": 7,
   "metadata": {
    "collapsed": true
   },
   "outputs": [],
   "source": [
    "#removendo a primeira coluna, e ajustando a coluna Timestamp para ser o indice\n",
    "del(df_dados['Unnamed: 0'])\n",
    "df_dados.set_index('Timestamp', inplace=True)"
   ]
  },
  {
   "cell_type": "code",
   "execution_count": 8,
   "metadata": {
    "collapsed": false
   },
   "outputs": [],
   "source": [
    "# Selecionando apenas algumas colunas de interesse\n",
    "df_dados = df_dados[['AirTC', 'RH', 'Rain_mm']]\n"
   ]
  },
  {
   "cell_type": "code",
   "execution_count": 11,
   "metadata": {
    "collapsed": false
   },
   "outputs": [
    {
     "data": {
      "text/html": [
       "<div style=\"max-height:1000px;max-width:1500px;overflow:auto;\">\n",
       "<table border=\"1\" class=\"dataframe\">\n",
       "  <thead>\n",
       "    <tr style=\"text-align: right;\">\n",
       "      <th></th>\n",
       "      <th>AirTC</th>\n",
       "      <th>RH</th>\n",
       "      <th>Rain_mm</th>\n",
       "    </tr>\n",
       "    <tr>\n",
       "      <th>Timestamp</th>\n",
       "      <th></th>\n",
       "      <th></th>\n",
       "      <th></th>\n",
       "    </tr>\n",
       "  </thead>\n",
       "  <tbody>\n",
       "    <tr>\n",
       "      <th>2011-12-01 15:15:00</th>\n",
       "      <td>19.17</td>\n",
       "      <td>34.59</td>\n",
       "      <td>0</td>\n",
       "    </tr>\n",
       "    <tr>\n",
       "      <th>2011-12-01 15:15:10</th>\n",
       "      <td>19.16</td>\n",
       "      <td>34.18</td>\n",
       "      <td>0</td>\n",
       "    </tr>\n",
       "    <tr>\n",
       "      <th>2011-12-01 15:15:20</th>\n",
       "      <td>19.17</td>\n",
       "      <td>35.65</td>\n",
       "      <td>0</td>\n",
       "    </tr>\n",
       "    <tr>\n",
       "      <th>2011-12-01 15:15:30</th>\n",
       "      <td>19.14</td>\n",
       "      <td>34.93</td>\n",
       "      <td>0</td>\n",
       "    </tr>\n",
       "    <tr>\n",
       "      <th>2011-12-01 15:15:40</th>\n",
       "      <td>19.14</td>\n",
       "      <td>36.30</td>\n",
       "      <td>0</td>\n",
       "    </tr>\n",
       "  </tbody>\n",
       "</table>\n",
       "</div>"
      ],
      "text/plain": [
       "                     AirTC     RH  Rain_mm\n",
       "Timestamp                                 \n",
       "2011-12-01 15:15:00  19.17  34.59        0\n",
       "2011-12-01 15:15:10  19.16  34.18        0\n",
       "2011-12-01 15:15:20  19.17  35.65        0\n",
       "2011-12-01 15:15:30  19.14  34.93        0\n",
       "2011-12-01 15:15:40  19.14  36.30        0"
      ]
     },
     "execution_count": 11,
     "metadata": {},
     "output_type": "execute_result"
    }
   ],
   "source": [
    "#df_dados = df_dados.dropna()\n",
    "df_dados.head()\n",
    "\n",
    "#s_chuva = df_dados.Rain_mm"
   ]
  },
  {
   "cell_type": "code",
   "execution_count": 73,
   "metadata": {
    "collapsed": false
   },
   "outputs": [],
   "source": [
    "#s_chuva.cumsum()"
   ]
  },
  {
   "cell_type": "code",
   "execution_count": 9,
   "metadata": {
    "collapsed": false
   },
   "outputs": [
    {
     "data": {
      "text/plain": [
       "<matplotlib.axes.AxesSubplot at 0x7f3793c19e80>"
      ]
     },
     "execution_count": 9,
     "metadata": {},
     "output_type": "execute_result"
    },
    {
     "data": {
      "image/png": "[encoded data removed]",
      "text/plain": [
       "<matplotlib.figure.Figure at 0x7f378e2ca630>"
      ]
     },
     "metadata": {},
     "output_type": "display_data"
    }
   ],
   "source": [
    "plt.figure(figsize=(16,8))\n",
    "\n",
    "plt.subplot(2, 1, 1)\n",
    "plt.title(\"Dados Brutos\")\n",
    "df_dados.AirTC.plot()\n",
    "df_dados.RH.plot()\n",
    "\n",
    "plt.subplot(2, 1, 2)\n",
    "df_dados.Rain_mm.plot()\n",
    "#plt.savefig('figs/nome-da-figura.png')"
   ]
  },
  {
   "cell_type": "markdown",
   "metadata": {},
   "source": [
    "## Ajustando o dominio temporal da serie de dados\n",
    "----"
   ]
  },
  {
   "cell_type": "code",
   "execution_count": 18,
   "metadata": {
    "collapsed": false
   },
   "outputs": [
    {
     "name": "stdout",
     "output_type": "stream",
     "text": [
      "Indice 2011 criado OK\n"
     ]
    },
    {
     "data": {
      "text/plain": [
       "(Empty DataFrame\n",
       " Columns: []\n",
       " Index: [2011-01-01 00:00:00, 2011-01-01 00:01:00], Empty DataFrame\n",
       " Columns: []\n",
       " Index: [2011-12-31 23:58:00, 2011-12-31 23:59:00])"
      ]
     },
     "execution_count": 18,
     "metadata": {},
     "output_type": "execute_result"
    }
   ],
   "source": [
    "#df_dados.index.min(), df_dados.index.max(), \n",
    "## (Timestamp('2015-01-01 00:00:00'), Timestamp('2015-05-29 10:00:00'))\n",
    "\n",
    "# Criando um novo dominio continuo com base no inicio e fim da serie de dados original\n",
    "#d = pd.DataFrame(index=pd.date_range(pd.datetime(2015,1,1), pd.datetime(2015,5,29), freq='Min'))\n",
    "d = pd.DataFrame(index=pd.date_range(pd.datetime(2011,1,1), pd.datetime(2011,12,31,23,59,00), freq='Min'))\n",
    " \n",
    "print(\"Indice 2011 criado OK\")\n",
    "d.head(2),d.tail(2)"
   ]
  },
  {
   "cell_type": "code",
   "execution_count": 19,
   "metadata": {
    "collapsed": false
   },
   "outputs": [
    {
     "name": "stdout",
     "output_type": "stream",
     "text": [
      "Junçao OK\n"
     ]
    }
   ],
   "source": [
    "# Unindo os dois DataFrames pela esquerda (o que não houver em d será substituído por NaN\n",
    "ndf_dados = d.join(df_dados)\n",
    "#ndf_dados.fillna(0) #Substitui valor NaN por 0\n",
    "print(\"Junçao OK\")"
   ]
  },
  {
   "cell_type": "code",
   "execution_count": 20,
   "metadata": {
    "collapsed": false,
    "scrolled": true
   },
   "outputs": [
    {
     "data": {
      "text/plain": [
       "<matplotlib.axes.AxesSubplot at 0x7f3780c8ea20>"
      ]
     },
     "execution_count": 20,
     "metadata": {},
     "output_type": "execute_result"
    },
    {
     "data": {
      "image/png": "[encoded data removed]",
      "text/plain": [
       "<matplotlib.figure.Figure at 0x7f378aea9a58>"
      ]
     },
     "metadata": {},
     "output_type": "display_data"
    }
   ],
   "source": [
    "plt.figure(figsize=(16,15))\n",
    "\n",
    "#Grafico Temperatura\n",
    "plt.subplot(3, 1, 1)\n",
    "plt.title('Dados Brutos Reindexados')\n",
    "plt.ylabel('Graus')\n",
    "plt.xlabel('')\n",
    "ndf_dados.AirTC.plot(legend=True)\n",
    "\n",
    "#Grafico Umidade\n",
    "plt.subplot(3, 1, 2)\n",
    "#plt.title('Dados Brutos Reindexados')\n",
    "plt.xlabel('')\n",
    "plt.ylabel('%')\n",
    "ndf_dados.RH.plot(legend=True)\n",
    "\n",
    "#Grafico Chuva\n",
    "plt.subplot(3, 1, 3)\n",
    "#plt.title('Dados Brutos Reindexados')\n",
    "plt.xlabel('')\n",
    "plt.ylabel('mm')\n",
    "ndf_dados.Rain_mm.plot(legend=True)\n",
    "\n",
    "#plt.savefig('figs/nome-da-figura.png')"
   ]
  },
  {
   "cell_type": "markdown",
   "metadata": {},
   "source": [
    "## Em busca dos GAPs"
   ]
  },
  {
   "cell_type": "code",
   "execution_count": 21,
   "metadata": {
    "collapsed": false
   },
   "outputs": [
    {
     "data": {
      "text/html": [
       "<div style=\"max-height:1000px;max-width:1500px;overflow:auto;\">\n",
       "<table border=\"1\" class=\"dataframe\">\n",
       "  <thead>\n",
       "    <tr style=\"text-align: right;\">\n",
       "      <th></th>\n",
       "      <th>AirTC</th>\n",
       "      <th>RH</th>\n",
       "      <th>Rain_mm</th>\n",
       "    </tr>\n",
       "  </thead>\n",
       "  <tbody>\n",
       "    <tr>\n",
       "      <th>2011-01-01 00:00:00</th>\n",
       "      <td>NaN</td>\n",
       "      <td>NaN</td>\n",
       "      <td>NaN</td>\n",
       "    </tr>\n",
       "    <tr>\n",
       "      <th>2011-01-01 00:01:00</th>\n",
       "      <td>NaN</td>\n",
       "      <td>NaN</td>\n",
       "      <td>NaN</td>\n",
       "    </tr>\n",
       "    <tr>\n",
       "      <th>2011-01-01 00:02:00</th>\n",
       "      <td>NaN</td>\n",
       "      <td>NaN</td>\n",
       "      <td>NaN</td>\n",
       "    </tr>\n",
       "    <tr>\n",
       "      <th>2011-01-01 00:03:00</th>\n",
       "      <td>NaN</td>\n",
       "      <td>NaN</td>\n",
       "      <td>NaN</td>\n",
       "    </tr>\n",
       "    <tr>\n",
       "      <th>2011-01-01 00:04:00</th>\n",
       "      <td>NaN</td>\n",
       "      <td>NaN</td>\n",
       "      <td>NaN</td>\n",
       "    </tr>\n",
       "    <tr>\n",
       "      <th>2011-01-01 00:05:00</th>\n",
       "      <td>NaN</td>\n",
       "      <td>NaN</td>\n",
       "      <td>NaN</td>\n",
       "    </tr>\n",
       "    <tr>\n",
       "      <th>2011-01-01 00:06:00</th>\n",
       "      <td>NaN</td>\n",
       "      <td>NaN</td>\n",
       "      <td>NaN</td>\n",
       "    </tr>\n",
       "    <tr>\n",
       "      <th>2011-01-01 00:07:00</th>\n",
       "      <td>NaN</td>\n",
       "      <td>NaN</td>\n",
       "      <td>NaN</td>\n",
       "    </tr>\n",
       "    <tr>\n",
       "      <th>2011-01-01 00:08:00</th>\n",
       "      <td>NaN</td>\n",
       "      <td>NaN</td>\n",
       "      <td>NaN</td>\n",
       "    </tr>\n",
       "    <tr>\n",
       "      <th>2011-01-01 00:09:00</th>\n",
       "      <td>NaN</td>\n",
       "      <td>NaN</td>\n",
       "      <td>NaN</td>\n",
       "    </tr>\n",
       "    <tr>\n",
       "      <th>2011-01-01 00:10:00</th>\n",
       "      <td>NaN</td>\n",
       "      <td>NaN</td>\n",
       "      <td>NaN</td>\n",
       "    </tr>\n",
       "    <tr>\n",
       "      <th>2011-01-01 00:11:00</th>\n",
       "      <td>NaN</td>\n",
       "      <td>NaN</td>\n",
       "      <td>NaN</td>\n",
       "    </tr>\n",
       "    <tr>\n",
       "      <th>2011-01-01 00:12:00</th>\n",
       "      <td>NaN</td>\n",
       "      <td>NaN</td>\n",
       "      <td>NaN</td>\n",
       "    </tr>\n",
       "    <tr>\n",
       "      <th>2011-01-01 00:13:00</th>\n",
       "      <td>NaN</td>\n",
       "      <td>NaN</td>\n",
       "      <td>NaN</td>\n",
       "    </tr>\n",
       "    <tr>\n",
       "      <th>2011-01-01 00:14:00</th>\n",
       "      <td>NaN</td>\n",
       "      <td>NaN</td>\n",
       "      <td>NaN</td>\n",
       "    </tr>\n",
       "    <tr>\n",
       "      <th>2011-01-01 00:15:00</th>\n",
       "      <td>NaN</td>\n",
       "      <td>NaN</td>\n",
       "      <td>NaN</td>\n",
       "    </tr>\n",
       "    <tr>\n",
       "      <th>2011-01-01 00:16:00</th>\n",
       "      <td>NaN</td>\n",
       "      <td>NaN</td>\n",
       "      <td>NaN</td>\n",
       "    </tr>\n",
       "    <tr>\n",
       "      <th>2011-01-01 00:17:00</th>\n",
       "      <td>NaN</td>\n",
       "      <td>NaN</td>\n",
       "      <td>NaN</td>\n",
       "    </tr>\n",
       "    <tr>\n",
       "      <th>2011-01-01 00:18:00</th>\n",
       "      <td>NaN</td>\n",
       "      <td>NaN</td>\n",
       "      <td>NaN</td>\n",
       "    </tr>\n",
       "    <tr>\n",
       "      <th>2011-01-01 00:19:00</th>\n",
       "      <td>NaN</td>\n",
       "      <td>NaN</td>\n",
       "      <td>NaN</td>\n",
       "    </tr>\n",
       "    <tr>\n",
       "      <th>2011-01-01 00:20:00</th>\n",
       "      <td>NaN</td>\n",
       "      <td>NaN</td>\n",
       "      <td>NaN</td>\n",
       "    </tr>\n",
       "    <tr>\n",
       "      <th>2011-01-01 00:21:00</th>\n",
       "      <td>NaN</td>\n",
       "      <td>NaN</td>\n",
       "      <td>NaN</td>\n",
       "    </tr>\n",
       "    <tr>\n",
       "      <th>2011-01-01 00:22:00</th>\n",
       "      <td>NaN</td>\n",
       "      <td>NaN</td>\n",
       "      <td>NaN</td>\n",
       "    </tr>\n",
       "    <tr>\n",
       "      <th>2011-01-01 00:23:00</th>\n",
       "      <td>NaN</td>\n",
       "      <td>NaN</td>\n",
       "      <td>NaN</td>\n",
       "    </tr>\n",
       "    <tr>\n",
       "      <th>2011-01-01 00:24:00</th>\n",
       "      <td>NaN</td>\n",
       "      <td>NaN</td>\n",
       "      <td>NaN</td>\n",
       "    </tr>\n",
       "    <tr>\n",
       "      <th>2011-01-01 00:25:00</th>\n",
       "      <td>NaN</td>\n",
       "      <td>NaN</td>\n",
       "      <td>NaN</td>\n",
       "    </tr>\n",
       "    <tr>\n",
       "      <th>2011-01-01 00:26:00</th>\n",
       "      <td>NaN</td>\n",
       "      <td>NaN</td>\n",
       "      <td>NaN</td>\n",
       "    </tr>\n",
       "    <tr>\n",
       "      <th>2011-01-01 00:27:00</th>\n",
       "      <td>NaN</td>\n",
       "      <td>NaN</td>\n",
       "      <td>NaN</td>\n",
       "    </tr>\n",
       "    <tr>\n",
       "      <th>2011-01-01 00:28:00</th>\n",
       "      <td>NaN</td>\n",
       "      <td>NaN</td>\n",
       "      <td>NaN</td>\n",
       "    </tr>\n",
       "    <tr>\n",
       "      <th>2011-01-01 00:29:00</th>\n",
       "      <td>NaN</td>\n",
       "      <td>NaN</td>\n",
       "      <td>NaN</td>\n",
       "    </tr>\n",
       "    <tr>\n",
       "      <th>...</th>\n",
       "      <td>...</td>\n",
       "      <td>...</td>\n",
       "      <td>...</td>\n",
       "    </tr>\n",
       "    <tr>\n",
       "      <th>2011-12-28 14:15:00</th>\n",
       "      <td>NaN</td>\n",
       "      <td>NaN</td>\n",
       "      <td>NaN</td>\n",
       "    </tr>\n",
       "    <tr>\n",
       "      <th>2011-12-28 14:21:00</th>\n",
       "      <td>NaN</td>\n",
       "      <td>NaN</td>\n",
       "      <td>NaN</td>\n",
       "    </tr>\n",
       "    <tr>\n",
       "      <th>2011-12-28 14:22:00</th>\n",
       "      <td>NaN</td>\n",
       "      <td>NaN</td>\n",
       "      <td>NaN</td>\n",
       "    </tr>\n",
       "    <tr>\n",
       "      <th>2011-12-28 14:23:00</th>\n",
       "      <td>NaN</td>\n",
       "      <td>NaN</td>\n",
       "      <td>NaN</td>\n",
       "    </tr>\n",
       "    <tr>\n",
       "      <th>2011-12-28 14:24:00</th>\n",
       "      <td>NaN</td>\n",
       "      <td>NaN</td>\n",
       "      <td>NaN</td>\n",
       "    </tr>\n",
       "    <tr>\n",
       "      <th>2011-12-28 14:25:00</th>\n",
       "      <td>NaN</td>\n",
       "      <td>NaN</td>\n",
       "      <td>NaN</td>\n",
       "    </tr>\n",
       "    <tr>\n",
       "      <th>2011-12-28 14:31:00</th>\n",
       "      <td>NaN</td>\n",
       "      <td>NaN</td>\n",
       "      <td>NaN</td>\n",
       "    </tr>\n",
       "    <tr>\n",
       "      <th>2011-12-28 14:32:00</th>\n",
       "      <td>NaN</td>\n",
       "      <td>NaN</td>\n",
       "      <td>NaN</td>\n",
       "    </tr>\n",
       "    <tr>\n",
       "      <th>2011-12-28 14:33:00</th>\n",
       "      <td>NaN</td>\n",
       "      <td>NaN</td>\n",
       "      <td>NaN</td>\n",
       "    </tr>\n",
       "    <tr>\n",
       "      <th>2011-12-28 14:34:00</th>\n",
       "      <td>NaN</td>\n",
       "      <td>NaN</td>\n",
       "      <td>NaN</td>\n",
       "    </tr>\n",
       "    <tr>\n",
       "      <th>2011-12-28 14:35:00</th>\n",
       "      <td>NaN</td>\n",
       "      <td>NaN</td>\n",
       "      <td>NaN</td>\n",
       "    </tr>\n",
       "    <tr>\n",
       "      <th>2011-12-28 21:48:00</th>\n",
       "      <td>NaN</td>\n",
       "      <td>NaN</td>\n",
       "      <td>NaN</td>\n",
       "    </tr>\n",
       "    <tr>\n",
       "      <th>2011-12-28 23:16:00</th>\n",
       "      <td>NaN</td>\n",
       "      <td>NaN</td>\n",
       "      <td>NaN</td>\n",
       "    </tr>\n",
       "    <tr>\n",
       "      <th>2011-12-28 23:17:00</th>\n",
       "      <td>NaN</td>\n",
       "      <td>NaN</td>\n",
       "      <td>NaN</td>\n",
       "    </tr>\n",
       "    <tr>\n",
       "      <th>2011-12-28 23:18:00</th>\n",
       "      <td>NaN</td>\n",
       "      <td>NaN</td>\n",
       "      <td>NaN</td>\n",
       "    </tr>\n",
       "    <tr>\n",
       "      <th>2011-12-28 23:19:00</th>\n",
       "      <td>NaN</td>\n",
       "      <td>NaN</td>\n",
       "      <td>NaN</td>\n",
       "    </tr>\n",
       "    <tr>\n",
       "      <th>2011-12-28 23:20:00</th>\n",
       "      <td>NaN</td>\n",
       "      <td>NaN</td>\n",
       "      <td>NaN</td>\n",
       "    </tr>\n",
       "    <tr>\n",
       "      <th>2011-12-28 23:26:00</th>\n",
       "      <td>NaN</td>\n",
       "      <td>NaN</td>\n",
       "      <td>NaN</td>\n",
       "    </tr>\n",
       "    <tr>\n",
       "      <th>2011-12-28 23:27:00</th>\n",
       "      <td>NaN</td>\n",
       "      <td>NaN</td>\n",
       "      <td>NaN</td>\n",
       "    </tr>\n",
       "    <tr>\n",
       "      <th>2011-12-28 23:28:00</th>\n",
       "      <td>NaN</td>\n",
       "      <td>NaN</td>\n",
       "      <td>NaN</td>\n",
       "    </tr>\n",
       "    <tr>\n",
       "      <th>2011-12-28 23:29:00</th>\n",
       "      <td>NaN</td>\n",
       "      <td>NaN</td>\n",
       "      <td>NaN</td>\n",
       "    </tr>\n",
       "    <tr>\n",
       "      <th>2011-12-28 23:30:00</th>\n",
       "      <td>NaN</td>\n",
       "      <td>NaN</td>\n",
       "      <td>NaN</td>\n",
       "    </tr>\n",
       "    <tr>\n",
       "      <th>2011-12-29 17:37:00</th>\n",
       "      <td>NaN</td>\n",
       "      <td>NaN</td>\n",
       "      <td>NaN</td>\n",
       "    </tr>\n",
       "    <tr>\n",
       "      <th>2011-12-30 23:56:00</th>\n",
       "      <td>NaN</td>\n",
       "      <td>NaN</td>\n",
       "      <td>NaN</td>\n",
       "    </tr>\n",
       "    <tr>\n",
       "      <th>2011-12-30 23:57:00</th>\n",
       "      <td>NaN</td>\n",
       "      <td>NaN</td>\n",
       "      <td>NaN</td>\n",
       "    </tr>\n",
       "    <tr>\n",
       "      <th>2011-12-30 23:58:00</th>\n",
       "      <td>NaN</td>\n",
       "      <td>NaN</td>\n",
       "      <td>NaN</td>\n",
       "    </tr>\n",
       "    <tr>\n",
       "      <th>2011-12-30 23:59:00</th>\n",
       "      <td>NaN</td>\n",
       "      <td>NaN</td>\n",
       "      <td>NaN</td>\n",
       "    </tr>\n",
       "    <tr>\n",
       "      <th>2011-12-31 00:00:00</th>\n",
       "      <td>NaN</td>\n",
       "      <td>NaN</td>\n",
       "      <td>NaN</td>\n",
       "    </tr>\n",
       "    <tr>\n",
       "      <th>2011-12-31 00:10:00</th>\n",
       "      <td>NaN</td>\n",
       "      <td>NaN</td>\n",
       "      <td>NaN</td>\n",
       "    </tr>\n",
       "    <tr>\n",
       "      <th>2011-12-31 07:30:00</th>\n",
       "      <td>NaN</td>\n",
       "      <td>NaN</td>\n",
       "      <td>NaN</td>\n",
       "    </tr>\n",
       "  </tbody>\n",
       "</table>\n",
       "<p>482326 rows × 3 columns</p>\n",
       "</div>"
      ],
      "text/plain": [
       "                     AirTC  RH  Rain_mm\n",
       "2011-01-01 00:00:00    NaN NaN      NaN\n",
       "2011-01-01 00:01:00    NaN NaN      NaN\n",
       "2011-01-01 00:02:00    NaN NaN      NaN\n",
       "2011-01-01 00:03:00    NaN NaN      NaN\n",
       "2011-01-01 00:04:00    NaN NaN      NaN\n",
       "2011-01-01 00:05:00    NaN NaN      NaN\n",
       "2011-01-01 00:06:00    NaN NaN      NaN\n",
       "2011-01-01 00:07:00    NaN NaN      NaN\n",
       "2011-01-01 00:08:00    NaN NaN      NaN\n",
       "2011-01-01 00:09:00    NaN NaN      NaN\n",
       "2011-01-01 00:10:00    NaN NaN      NaN\n",
       "2011-01-01 00:11:00    NaN NaN      NaN\n",
       "2011-01-01 00:12:00    NaN NaN      NaN\n",
       "2011-01-01 00:13:00    NaN NaN      NaN\n",
       "2011-01-01 00:14:00    NaN NaN      NaN\n",
       "2011-01-01 00:15:00    NaN NaN      NaN\n",
       "2011-01-01 00:16:00    NaN NaN      NaN\n",
       "2011-01-01 00:17:00    NaN NaN      NaN\n",
       "2011-01-01 00:18:00    NaN NaN      NaN\n",
       "2011-01-01 00:19:00    NaN NaN      NaN\n",
       "2011-01-01 00:20:00    NaN NaN      NaN\n",
       "2011-01-01 00:21:00    NaN NaN      NaN\n",
       "2011-01-01 00:22:00    NaN NaN      NaN\n",
       "2011-01-01 00:23:00    NaN NaN      NaN\n",
       "2011-01-01 00:24:00    NaN NaN      NaN\n",
       "2011-01-01 00:25:00    NaN NaN      NaN\n",
       "2011-01-01 00:26:00    NaN NaN      NaN\n",
       "2011-01-01 00:27:00    NaN NaN      NaN\n",
       "2011-01-01 00:28:00    NaN NaN      NaN\n",
       "2011-01-01 00:29:00    NaN NaN      NaN\n",
       "...                    ...  ..      ...\n",
       "2011-12-28 14:15:00    NaN NaN      NaN\n",
       "2011-12-28 14:21:00    NaN NaN      NaN\n",
       "2011-12-28 14:22:00    NaN NaN      NaN\n",
       "2011-12-28 14:23:00    NaN NaN      NaN\n",
       "2011-12-28 14:24:00    NaN NaN      NaN\n",
       "2011-12-28 14:25:00    NaN NaN      NaN\n",
       "2011-12-28 14:31:00    NaN NaN      NaN\n",
       "2011-12-28 14:32:00    NaN NaN      NaN\n",
       "2011-12-28 14:33:00    NaN NaN      NaN\n",
       "2011-12-28 14:34:00    NaN NaN      NaN\n",
       "2011-12-28 14:35:00    NaN NaN      NaN\n",
       "2011-12-28 21:48:00    NaN NaN      NaN\n",
       "2011-12-28 23:16:00    NaN NaN      NaN\n",
       "2011-12-28 23:17:00    NaN NaN      NaN\n",
       "2011-12-28 23:18:00    NaN NaN      NaN\n",
       "2011-12-28 23:19:00    NaN NaN      NaN\n",
       "2011-12-28 23:20:00    NaN NaN      NaN\n",
       "2011-12-28 23:26:00    NaN NaN      NaN\n",
       "2011-12-28 23:27:00    NaN NaN      NaN\n",
       "2011-12-28 23:28:00    NaN NaN      NaN\n",
       "2011-12-28 23:29:00    NaN NaN      NaN\n",
       "2011-12-28 23:30:00    NaN NaN      NaN\n",
       "2011-12-29 17:37:00    NaN NaN      NaN\n",
       "2011-12-30 23:56:00    NaN NaN      NaN\n",
       "2011-12-30 23:57:00    NaN NaN      NaN\n",
       "2011-12-30 23:58:00    NaN NaN      NaN\n",
       "2011-12-30 23:59:00    NaN NaN      NaN\n",
       "2011-12-31 00:00:00    NaN NaN      NaN\n",
       "2011-12-31 00:10:00    NaN NaN      NaN\n",
       "2011-12-31 07:30:00    NaN NaN      NaN\n",
       "\n",
       "[482326 rows x 3 columns]"
      ]
     },
     "execution_count": 21,
     "metadata": {},
     "output_type": "execute_result"
    }
   ],
   "source": [
    "#numpy.all(numpy.isnan(data_list))\n",
    "# np.any(np.isnan(ndf_dados))   Se returnar True eh porque algum valor NaN foi encontrado\n",
    "\n",
    "# Mostra onde os dados Possuem valor NaN\n",
    "ndf_dados[np.isnan(ndf_dados.Rain_mm)]\n",
    " "
   ]
  },
  {
   "cell_type": "code",
   "execution_count": 85,
   "metadata": {
    "collapsed": false
   },
   "outputs": [],
   "source": [
    "ndf_dados.head()\n",
    "#Exportando para um novo arquivo\n",
    "ndf_dados.to_csv('sao_roque_2015-AirTC-RH-Rain.csv')\n",
    "# TODO: Este arquivo nao possui mais gaps no dominio temporal (as imagens foram ajustadas para o valor NaN), portanto pode-se pular a etapa reindexar caso seja utilizado no futuro."
   ]
  },
  {
   "cell_type": "markdown",
   "metadata": {},
   "source": [
    "###Analises Diarias"
   ]
  },
  {
   "cell_type": "code",
   "execution_count": 86,
   "metadata": {
    "collapsed": false
   },
   "outputs": [],
   "source": [
    "df_dados_diarios = ndf_dados[['AirTC','RH']] .resample('D', how='mean')\n",
    "chuva = ndf_dados.Rain_mm.resample('D', how='sum')\n"
   ]
  },
  {
   "cell_type": "code",
   "execution_count": 87,
   "metadata": {
    "collapsed": false
   },
   "outputs": [
    {
     "data": {
      "text/html": [
       "<div style=\"max-height:1000px;max-width:1500px;overflow:auto;\">\n",
       "<table border=\"1\" class=\"dataframe\">\n",
       "  <thead>\n",
       "    <tr style=\"text-align: right;\">\n",
       "      <th></th>\n",
       "      <th>AirTC</th>\n",
       "      <th>RH</th>\n",
       "      <th>Acum_Chuva</th>\n",
       "    </tr>\n",
       "  </thead>\n",
       "  <tbody>\n",
       "    <tr>\n",
       "      <th>2015-01-01</th>\n",
       "      <td>20.660417</td>\n",
       "      <td>82.342326</td>\n",
       "      <td>11.176</td>\n",
       "    </tr>\n",
       "    <tr>\n",
       "      <th>2015-01-02</th>\n",
       "      <td>18.120118</td>\n",
       "      <td>87.190590</td>\n",
       "      <td>1.778</td>\n",
       "    </tr>\n",
       "    <tr>\n",
       "      <th>2015-01-03</th>\n",
       "      <td>18.737708</td>\n",
       "      <td>79.551458</td>\n",
       "      <td>0.000</td>\n",
       "    </tr>\n",
       "    <tr>\n",
       "      <th>2015-01-04</th>\n",
       "      <td>21.458375</td>\n",
       "      <td>67.746931</td>\n",
       "      <td>0.000</td>\n",
       "    </tr>\n",
       "    <tr>\n",
       "      <th>2015-01-05</th>\n",
       "      <td>23.430160</td>\n",
       "      <td>66.851417</td>\n",
       "      <td>0.000</td>\n",
       "    </tr>\n",
       "  </tbody>\n",
       "</table>\n",
       "</div>"
      ],
      "text/plain": [
       "                AirTC         RH  Acum_Chuva\n",
       "2015-01-01  20.660417  82.342326      11.176\n",
       "2015-01-02  18.120118  87.190590       1.778\n",
       "2015-01-03  18.737708  79.551458       0.000\n",
       "2015-01-04  21.458375  67.746931       0.000\n",
       "2015-01-05  23.430160  66.851417       0.000"
      ]
     },
     "execution_count": 87,
     "metadata": {},
     "output_type": "execute_result"
    }
   ],
   "source": [
    "df_dados_diarios['Acum_Chuva'] = chuva\n",
    "df_dados_diarios.head()"
   ]
  },
  {
   "cell_type": "code",
   "execution_count": 111,
   "metadata": {
    "collapsed": false
   },
   "outputs": [
    {
     "data": {
      "text/plain": [
       "<matplotlib.axes.AxesSubplot at 0x7fb05dbf5c50>"
      ]
     },
     "execution_count": 111,
     "metadata": {},
     "output_type": "execute_result"
    },
    {
     "data": {
      "image/png": "[encoded data removed]",
      "text/plain": [
       "<matplotlib.figure.Figure at 0x7fb05de0f898>"
      ]
     },
     "metadata": {},
     "output_type": "display_data"
    }
   ],
   "source": [
    "#Mostrando tudo\n",
    "plt.figure(figsize=(16,8))\n",
    "plt.subplot(2,1,1)\n",
    "plt.title('Media Diaria 2015')\n",
    "plt.xlabel(\"\")\n",
    "plt.ylabel(\"mm, Graus, %\")\n",
    "df_dados_diarios.AirTC.plot(legend=True)\n",
    "df_dados_diarios.RH.plot(legend=True)\n",
    "df_dados_diarios.Acum_Chuva.plot(legend=True)\n",
    "\n",
    "plt.subplot(2,1,2)\n",
    "acumulado = df_dados_diarios.Acum_Chuva.cumsum()\n",
    "plt.xlabel(\"Data\")\n",
    "plt.ylabel(\"mm\")\n",
    "acumulado.plot(legend=True)\n",
    "\n",
    "#plt.savefig('figs/nome-da-figura.png')"
   ]
  },
  {
   "cell_type": "code",
   "execution_count": 112,
   "metadata": {
    "collapsed": false
   },
   "outputs": [
    {
     "data": {
      "text/plain": [
       "<matplotlib.axes.AxesSubplot at 0x7fb05de09898>"
      ]
     },
     "execution_count": 112,
     "metadata": {},
     "output_type": "execute_result"
    },
    {
     "data": {
      "image/png": "[encoded data removed]",
      "text/plain": [
       "<matplotlib.figure.Figure at 0x7fb05de090b8>"
      ]
     },
     "metadata": {},
     "output_type": "display_data"
    }
   ],
   "source": [
    "# Histograma do Acumulado Diario\n",
    "plt.figure(figsize=(16,8))\n",
    "plt.xlabel(\"Acorrencia\")\n",
    "plt.ylabel(\"mm\")\n",
    "df_dados_diarios.Acum_Chuva.plot(kind='hist', orientation='horizontal', alpha=.75,legend=True)\n",
    "\n",
    "#plt.savefig('figs/nome-da-figura.png')"
   ]
  },
  {
   "cell_type": "markdown",
   "metadata": {},
   "source": [
    "### Quais dias o Acumulado de chuva foi superior a 20mm em 2015 ?"
   ]
  },
  {
   "cell_type": "code",
   "execution_count": 112,
   "metadata": {
    "collapsed": false
   },
   "outputs": [
    {
     "data": {
      "text/plain": [
       "Timestamp\n",
       "2015-01-28    29.718\n",
       "2015-02-09    21.590\n",
       "2015-02-21    70.104\n",
       "2015-03-09    23.368\n",
       "2015-03-30    21.844\n",
       "2015-04-05    28.448\n",
       "2015-04-20    44.450\n",
       "Name: Acum_Chuva, dtype: float64"
      ]
     },
     "execution_count": 112,
     "metadata": {},
     "output_type": "execute_result"
    }
   ],
   "source": [
    "# Quais dias o Acumulado de chuva foi superior a 20mm em 2015?\n",
    "df_dados_diarios.Acum_Chuva[df_dados_diarios.Acum_Chuva > 20.]"
   ]
  },
  {
   "cell_type": "markdown",
   "metadata": {},
   "source": [
    "### Quantos dias o Acumulado de chuva foi superior a 20mm em 2015 ?"
   ]
  },
  {
   "cell_type": "code",
   "execution_count": 129,
   "metadata": {
    "collapsed": false
   },
   "outputs": [
    {
     "data": {
      "text/plain": [
       "7"
      ]
     },
     "execution_count": 129,
     "metadata": {},
     "output_type": "execute_result"
    }
   ],
   "source": [
    "# Quantos dias o Acumulado de chuva foi superior a 20mm em 2015?\n",
    "df_dados_diarios.Acum_Chuva[df_dados_diarios.Acum_Chuva > 20.].count()"
   ]
  },
  {
   "cell_type": "markdown",
   "metadata": {},
   "source": [
    "### Estatistica geral do DataFrame"
   ]
  },
  {
   "cell_type": "code",
   "execution_count": 110,
   "metadata": {
    "collapsed": false
   },
   "outputs": [
    {
     "data": {
      "text/plain": [
       "(               AirTC             RH        Rain_mm\n",
       " count  204513.000000  204513.000000  204513.000000\n",
       " mean       19.453614      80.962955       0.002573\n",
       " std         4.293105      14.318227       0.039800\n",
       " min         7.030000       0.000000       0.000000\n",
       " 25%        16.570000      71.560000       0.000000\n",
       " 50%        19.280000      83.900000       0.000000\n",
       " 75%        22.250000      92.600000       0.000000\n",
       " max        32.080000     100.000000       5.800000,\n",
       "             AirTC          RH  Acum_Chuva\n",
       " count  147.000000  147.000000  147.000000\n",
       " mean    19.477713   80.830773    3.579878\n",
       " std      3.160460    7.848394    8.697315\n",
       " min     10.897843   56.890602    0.000000\n",
       " 25%     17.346858   75.739872    0.000000\n",
       " 50%     19.605347   80.935653    0.000000\n",
       " 75%     21.442038   86.432545    2.794000\n",
       " max     28.191128   98.972410   70.104000)"
      ]
     },
     "execution_count": 110,
     "metadata": {},
     "output_type": "execute_result"
    }
   ],
   "source": [
    "ndf_dados.describe(), df_dados_diarios.describe()"
   ]
  },
  {
   "cell_type": "markdown",
   "metadata": {},
   "source": [
    "---\n",
    "# Atividade\n",
    "## Refazer os procedimentos para os anos de 2012 ate 2014.\n",
    "\n",
    "* Dados disponiveis em http://fortran-zrhans.c9.io/csdapy/\n",
    "* Aplicar os tratamentos e mostrar tambem os graficos para temperatura maxima, minima, velocidade do vento e radiacao solar.\n",
    "\n",
    "---"
   ]
  },
  {
   "cell_type": "markdown",
   "metadata": {},
   "source": [
    "## Resultados apos executar os procedimentos para cada ano a partir de 2012.\n",
    "----\n",
    "\n",
    "```bash\n",
    "\n",
    "hans@hasus:~/Dropbox/workspace/spyder/spyderprj01$ python3 ATMOS-Anuais.py -i 2012; python3 ATMOS-Anuais.py -i 201\n",
    "3.4.3 |Anaconda 2.2.0 (64-bit)| (default, Mar  6 2015, 12:03:53) \n",
    "[GCC 4.4.7 20120313 (Red Hat 4.4.7-1)]\n",
    "1.9.2\n",
    "Analisando ano 2012\n",
    "Dados 2012 Importados OK\n",
    "Gerando Graficos Brutos - 2012\n",
    "Indice criado OK\n",
    "Junção OK\n",
    "Gerando Graficos Brutos Reindexados - 2012\n",
    "Gerando Graficos Media Diaria - 2012\n",
    "Gerando Graficos Acumulado de Chuva - 2012\n",
    "Gerando Graficos Histograma Acumulado diario de Chuva - 2012\n",
    "2012-01-01    41.402\n",
    "2012-01-13    24.638\n",
    "2012-02-05    45.466\n",
    "2012-06-17    30.480\n",
    "2012-07-06    62.992\n",
    "2012-07-24    37.592\n",
    "2012-08-26    28.956\n",
    "2012-09-09    20.320\n",
    "2012-09-10    52.578\n",
    "2012-09-16    31.242\n",
    "2012-09-18    35.814\n",
    "2012-09-19    27.432\n",
    "2012-10-07    20.320\n",
    "2012-10-22    24.638\n",
    "2012-11-23    26.924\n",
    "2012-12-27    43.180\n",
    "2012-12-28    29.972\n",
    "Name: Acum_Chuva, dtype: float64\n",
    "17\n",
    "\n",
    "________\n",
    "FINALIZADO!!\n",
    "________\n",
    "3.4.3 |Anaconda 2.2.0 (64-bit)| (default, Mar  6 2015, 12:03:53) \n",
    "[GCC 4.4.7 20120313 (Red Hat 4.4.7-1)]\n",
    "1.9.2\n",
    "Analisando ano 2013\n",
    "Dados 2013 Importados OK\n",
    "Gerando Graficos Brutos - 2013\n",
    "Indice criado OK\n",
    "Junção OK\n",
    "Gerando Graficos Brutos Reindexados - 2013\n",
    "Gerando Graficos Media Diaria - 2013\n",
    "Gerando Graficos Acumulado de Chuva - 2013\n",
    "Gerando Graficos Histograma Acumulado diario de Chuva - 2013\n",
    "2013-02-25    29.718\n",
    "2013-03-09    22.352\n",
    "2013-03-12    44.958\n",
    "2013-03-20    34.798\n",
    "2013-04-04    25.908\n",
    "2013-04-12    26.924\n",
    "2013-05-19    41.402\n",
    "2013-05-29    20.828\n",
    "2013-06-01    20.828\n",
    "2013-06-28    24.638\n",
    "2013-06-29    20.828\n",
    "2013-07-07    27.178\n",
    "2013-08-09    28.702\n",
    "2013-08-13    22.860\n",
    "2013-08-23    25.654\n",
    "2013-08-24    61.722\n",
    "2013-08-25    34.036\n",
    "2013-08-26    22.860\n",
    "2013-09-20    51.816\n",
    "2013-09-21    44.704\n",
    "2013-10-21    27.940\n",
    "2013-11-11    53.340\n",
    "2013-11-15    20.320\n",
    "2013-11-20    23.368\n",
    "2013-11-21    20.828\n",
    "2013-12-05    22.098\n",
    "Name: Acum_Chuva, dtype: float64\n",
    "26\n",
    "\n",
    "________\n",
    "FINALIZADO!!\n",
    "________\n",
    "\n",
    "3.4.3 |Anaconda 2.2.0 (64-bit)| (default, Mar  6 2015, 12:03:53) \n",
    "[GCC 4.4.7 20120313 (Red Hat 4.4.7-1)]\n",
    "1.9.2\n",
    "Analisando ano 2014\n",
    "Dados 2014 Importados OK\n",
    "Gerando Graficos Brutos - 2014\n",
    "Indice criado OK\n",
    "Junção OK\n",
    "Gerando Graficos Brutos Reindexados - 2014\n",
    "Gerando Graficos Media Diaria - 2014\n",
    "Gerando Graficos Acumulado de Chuva - 2014\n",
    "Gerando Graficos Histograma Acumulado diario de Chuva - 2014\n",
    "2014-01-03    23.622\n",
    "2014-01-10    21.844\n",
    "2014-02-12    20.574\n",
    "2014-02-25    22.352\n",
    "2014-03-17    22.352\n",
    "2014-03-31    24.130\n",
    "2014-04-08    49.784\n",
    "2014-04-11    44.196\n",
    "2014-05-21    37.338\n",
    "2014-05-31    37.846\n",
    "2014-06-05    53.594\n",
    "2014-06-13    37.084\n",
    "2014-06-24    25.908\n",
    "2014-06-26    30.226\n",
    "2014-07-03    23.876\n",
    "2014-07-23    34.798\n",
    "2014-08-31    25.146\n",
    "2014-09-02    25.654\n",
    "2014-09-06    29.972\n",
    "2014-09-11    27.686\n",
    "2014-09-26    25.146\n",
    "2014-10-13    37.338\n",
    "2014-10-17    46.990\n",
    "2014-10-19    23.368\n",
    "2014-12-12    44.704\n",
    "2014-12-20    33.274\n",
    "2014-12-21    35.306\n",
    "2014-12-27    30.226\n",
    "Name: Acum_Chuva, dtype: float64\n",
    "28\n",
    "\n",
    "________\n",
    "FINALIZADO!!\n",
    "________\n",
    "\n",
    "3.4.3 |Anaconda 2.2.0 (64-bit)| (default, Mar  6 2015, 12:03:53) \n",
    "[GCC 4.4.7 20120313 (Red Hat 4.4.7-1)]\n",
    "1.9.2\n",
    "Analisando ano 2015\n",
    "Dados 2015 Importados OK\n",
    "Gerando Graficos Brutos - 2015\n",
    "Indice criado OK\n",
    "Junção OK\n",
    "Gerando Graficos Brutos Reindexados - 2015\n",
    "Gerando Graficos Media Diaria - 2015\n",
    "Gerando Graficos Acumulado de Chuva - 2015\n",
    "Gerando Graficos Histograma Acumulado diario de Chuva - 2015\n",
    "2015-01-28    29.718\n",
    "2015-02-09    21.590\n",
    "2015-02-21    70.104\n",
    "2015-03-09    23.368\n",
    "2015-03-30    21.844\n",
    "2015-04-05    28.448\n",
    "2015-04-20    44.450\n",
    "Name: Acum_Chuva, dtype: float64\n",
    "7\n",
    "\n",
    "________\n",
    "FINALIZADO!!\n",
    "________\n",
    "\n",
    "\n",
    "```"
   ]
  },
  {
   "cell_type": "markdown",
   "metadata": {},
   "source": [
    "----\n",
    "Elaborado por Hans Rogerio Zimermann para o curso *FSC878 - Topicos Especiais II* PPGMET - UFSM."
   ]
  }
 ],
 "metadata": {
  "kernelspec": {
   "display_name": "Python 3",
   "language": "python",
   "name": "python3"
  },
  "language_info": {
   "codemirror_mode": {
    "name": "ipython",
    "version": 3
   },
   "file_extension": ".py",
   "mimetype": "text/x-python",
   "name": "python",
   "nbconvert_exporter": "python",
   "pygments_lexer": "ipython3",
   "version": "3.4.2"
  }
 },
 "nbformat": 4,
 "nbformat_minor": 0
}
