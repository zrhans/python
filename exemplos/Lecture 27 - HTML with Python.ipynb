{
 "cells": [
  {
   "cell_type": "markdown",
   "metadata": {},
   "source": [
    "## Lecture 27 - HTML with Python\n",
    "---\n",
    "Aprender a usar HTML com Python e com o pacote pandas."
   ]
  },
  {
   "cell_type": "code",
   "execution_count": 1,
   "metadata": {
    "collapsed": true
   },
   "outputs": [],
   "source": [
    "# Importando os módulos necessários\n",
    "from pandas import Series, DataFrame\n",
    "import pandas as pd\n",
    "from pandas import read_html"
   ]
  },
  {
   "cell_type": "code",
   "execution_count": 33,
   "metadata": {
    "collapsed": true
   },
   "outputs": [],
   "source": [
    "url = 'http://www.fdic.gov/bank/individual/failed/banklist.html'\n",
    "url = 'http://www.bmfbovespa.com.br/cias-listadas/eventos-corporativos/ResumoEmpresaDemoFinancAtualizacoes.aspx?idioma=pt-br'\n",
    "url = 'http://pregao-online.bmfbovespa.com.br/Principal.aspx?idioma=pt-BR'"
   ]
  },
  {
   "cell_type": "markdown",
   "metadata": {
    "collapsed": true
   },
   "source": [
    "<b>Bibliotecas necessárias para funcionamento com html</b>\n",
    "- pip install beautiful-soup (Beautifulsoup4)\n",
    "- pip install html5lib "
   ]
  },
  {
   "cell_type": "code",
   "execution_count": 34,
   "metadata": {
    "collapsed": false
   },
   "outputs": [],
   "source": [
    "dframe_list = pd.io.html.read_html(url)"
   ]
  },
  {
   "cell_type": "code",
   "execution_count": 38,
   "metadata": {
    "collapsed": false
   },
   "outputs": [
    {
     "data": {
      "text/html": [
       "<div style=\"max-height:1000px;max-width:1500px;overflow:auto;\">\n",
       "<table border=\"1\" class=\"dataframe\">\n",
       "  <thead>\n",
       "    <tr style=\"text-align: right;\">\n",
       "      <th></th>\n",
       "      <th>0</th>\n",
       "      <th>1</th>\n",
       "      <th>2</th>\n",
       "      <th>3</th>\n",
       "    </tr>\n",
       "  </thead>\n",
       "  <tbody>\n",
       "    <tr>\n",
       "      <th>0</th>\n",
       "      <td>             Ação</td>\n",
       "      <td> Osc. (%)</td>\n",
       "      <td> Preço (R$)</td>\n",
       "      <td>  Hora</td>\n",
       "    </tr>\n",
       "    <tr>\n",
       "      <th>1</th>\n",
       "      <td>    VALE ON EJ N1</td>\n",
       "      <td>     1071</td>\n",
       "      <td>       2335</td>\n",
       "      <td> 17:56</td>\n",
       "    </tr>\n",
       "    <tr>\n",
       "      <th>2</th>\n",
       "      <td>   VALE PNA EJ N1</td>\n",
       "      <td>      678</td>\n",
       "      <td>       1873</td>\n",
       "      <td> 17:59</td>\n",
       "    </tr>\n",
       "    <tr>\n",
       "      <th>3</th>\n",
       "      <td> ELETROBRAS ON N1</td>\n",
       "      <td>      608</td>\n",
       "      <td>        732</td>\n",
       "      <td> 17:59</td>\n",
       "    </tr>\n",
       "    <tr>\n",
       "      <th>4</th>\n",
       "      <td>     KROTON ON NM</td>\n",
       "      <td>      529</td>\n",
       "      <td>       1174</td>\n",
       "      <td> 17:57</td>\n",
       "    </tr>\n",
       "    <tr>\n",
       "      <th>5</th>\n",
       "      <td>  BRADESPAR PN N1</td>\n",
       "      <td>      524</td>\n",
       "      <td>       1265</td>\n",
       "      <td> 17:56</td>\n",
       "    </tr>\n",
       "  </tbody>\n",
       "</table>\n",
       "</div>"
      ],
      "text/plain": [
       "                  0         1           2      3\n",
       "0              Ação  Osc. (%)  Preço (R$)   Hora\n",
       "1     VALE ON EJ N1      1071        2335  17:56\n",
       "2    VALE PNA EJ N1       678        1873  17:59\n",
       "3  ELETROBRAS ON N1       608         732  17:59\n",
       "4      KROTON ON NM       529        1174  17:57\n",
       "5   BRADESPAR PN N1       524        1265  17:56"
      ]
     },
     "execution_count": 38,
     "metadata": {},
     "output_type": "execute_result"
    }
   ],
   "source": [
    "#dframe = dframe_list[0]\n",
    "\n",
    "maiores_altas = dframe_list[0]\n",
    "maiores_baixas = dframe_list[1]\n",
    "mais_negociadas = dframe_list[2]\n",
    "\n",
    "maiores_altas"
   ]
  },
  {
   "cell_type": "code",
   "execution_count": 39,
   "metadata": {
    "collapsed": false
   },
   "outputs": [
    {
     "data": {
      "text/html": [
       "<div style=\"max-height:1000px;max-width:1500px;overflow:auto;\">\n",
       "<table border=\"1\" class=\"dataframe\">\n",
       "  <thead>\n",
       "    <tr style=\"text-align: right;\">\n",
       "      <th></th>\n",
       "      <th>0</th>\n",
       "      <th>1</th>\n",
       "      <th>2</th>\n",
       "      <th>3</th>\n",
       "    </tr>\n",
       "  </thead>\n",
       "  <tbody>\n",
       "    <tr>\n",
       "      <th>0</th>\n",
       "      <td>            Ação</td>\n",
       "      <td> Osc. (%)</td>\n",
       "      <td> Preço (R$)</td>\n",
       "      <td>  Hora</td>\n",
       "    </tr>\n",
       "    <tr>\n",
       "      <th>1</th>\n",
       "      <td>  LOCALIZA ON NM</td>\n",
       "      <td>     -310</td>\n",
       "      <td>       3682</td>\n",
       "      <td> 17:59</td>\n",
       "    </tr>\n",
       "    <tr>\n",
       "      <th>2</th>\n",
       "      <td> CCR SA ON ED NM</td>\n",
       "      <td>     -265</td>\n",
       "      <td>       1611</td>\n",
       "      <td> 17:59</td>\n",
       "    </tr>\n",
       "    <tr>\n",
       "      <th>3</th>\n",
       "      <td>    BRF SA ON NM</td>\n",
       "      <td>     -237</td>\n",
       "      <td>       6082</td>\n",
       "      <td> 17:59</td>\n",
       "    </tr>\n",
       "    <tr>\n",
       "      <th>4</th>\n",
       "      <td> MARCOPOLO PN N2</td>\n",
       "      <td>     -237</td>\n",
       "      <td>        288</td>\n",
       "      <td> 17:59</td>\n",
       "    </tr>\n",
       "    <tr>\n",
       "      <th>5</th>\n",
       "      <td> MULTIPLAN ON N2</td>\n",
       "      <td>     -226</td>\n",
       "      <td>       5647</td>\n",
       "      <td> 17:46</td>\n",
       "    </tr>\n",
       "  </tbody>\n",
       "</table>\n",
       "</div>"
      ],
      "text/plain": [
       "                 0         1           2      3\n",
       "0             Ação  Osc. (%)  Preço (R$)   Hora\n",
       "1   LOCALIZA ON NM      -310        3682  17:59\n",
       "2  CCR SA ON ED NM      -265        1611  17:59\n",
       "3     BRF SA ON NM      -237        6082  17:59\n",
       "4  MARCOPOLO PN N2      -237         288  17:59\n",
       "5  MULTIPLAN ON N2      -226        5647  17:46"
      ]
     },
     "execution_count": 39,
     "metadata": {},
     "output_type": "execute_result"
    }
   ],
   "source": [
    "maiores_baixas\n"
   ]
  },
  {
   "cell_type": "code",
   "execution_count": 41,
   "metadata": {
    "collapsed": false
   },
   "outputs": [
    {
     "data": {
      "text/html": [
       "<div style=\"max-height:1000px;max-width:1500px;overflow:auto;\">\n",
       "<table border=\"1\" class=\"dataframe\">\n",
       "  <thead>\n",
       "    <tr style=\"text-align: right;\">\n",
       "      <th></th>\n",
       "      <th>0</th>\n",
       "      <th>1</th>\n",
       "      <th>2</th>\n",
       "      <th>3</th>\n",
       "    </tr>\n",
       "  </thead>\n",
       "  <tbody>\n",
       "    <tr>\n",
       "      <th>0</th>\n",
       "      <td>               Ação</td>\n",
       "      <td> Vol. (R$ Mil)</td>\n",
       "      <td> Part.(%)</td>\n",
       "      <td>  Hora</td>\n",
       "    </tr>\n",
       "    <tr>\n",
       "      <th>1</th>\n",
       "      <td>       PETROBRAS PN</td>\n",
       "      <td>   1.408.08235</td>\n",
       "      <td>     1494</td>\n",
       "      <td> 17:59</td>\n",
       "    </tr>\n",
       "    <tr>\n",
       "      <th>2</th>\n",
       "      <td>     VALE PNA EJ N1</td>\n",
       "      <td>     928.37900</td>\n",
       "      <td>      985</td>\n",
       "      <td> 17:59</td>\n",
       "    </tr>\n",
       "    <tr>\n",
       "      <th>3</th>\n",
       "      <td> ITAUUNIBANCO PN N1</td>\n",
       "      <td>     913.04830</td>\n",
       "      <td>      969</td>\n",
       "      <td> 17:59</td>\n",
       "    </tr>\n",
       "    <tr>\n",
       "      <th>4</th>\n",
       "      <td>       PETROBRAS ON</td>\n",
       "      <td>     708.06622</td>\n",
       "      <td>      751</td>\n",
       "      <td> 17:59</td>\n",
       "    </tr>\n",
       "    <tr>\n",
       "      <th>5</th>\n",
       "      <td>      VALE ON EJ N1</td>\n",
       "      <td>     477.89708</td>\n",
       "      <td>      507</td>\n",
       "      <td> 17:56</td>\n",
       "    </tr>\n",
       "  </tbody>\n",
       "</table>\n",
       "</div>"
      ],
      "text/plain": [
       "                    0              1         2      3\n",
       "0                Ação  Vol. (R$ Mil)  Part.(%)   Hora\n",
       "1        PETROBRAS PN    1.408.08235      1494  17:59\n",
       "2      VALE PNA EJ N1      928.37900       985  17:59\n",
       "3  ITAUUNIBANCO PN N1      913.04830       969  17:59\n",
       "4        PETROBRAS ON      708.06622       751  17:59\n",
       "5       VALE ON EJ N1      477.89708       507  17:56"
      ]
     },
     "execution_count": 41,
     "metadata": {},
     "output_type": "execute_result"
    }
   ],
   "source": [
    "mais_negociadas"
   ]
  },
  {
   "cell_type": "code",
   "execution_count": 40,
   "metadata": {
    "collapsed": false
   },
   "outputs": [
    {
     "data": {
      "text/plain": [
       "array([0, 1, 2, 3], dtype=int64)"
      ]
     },
     "execution_count": 40,
     "metadata": {},
     "output_type": "execute_result"
    }
   ],
   "source": [
    "# Como ver as colunas ?\n",
    "dframe.columns.values"
   ]
  },
  {
   "cell_type": "code",
   "execution_count": null,
   "metadata": {
    "collapsed": true
   },
   "outputs": [],
   "source": []
  }
 ],
 "metadata": {
  "kernelspec": {
   "display_name": "Python 3",
   "language": "python",
   "name": "python3"
  },
  "language_info": {
   "codemirror_mode": {
    "name": "ipython",
    "version": 3
   },
   "file_extension": ".py",
   "mimetype": "text/x-python",
   "name": "python",
   "nbconvert_exporter": "python",
   "pygments_lexer": "ipython3",
   "version": "3.4.3"
  }
 },
 "nbformat": 4,
 "nbformat_minor": 0
}
