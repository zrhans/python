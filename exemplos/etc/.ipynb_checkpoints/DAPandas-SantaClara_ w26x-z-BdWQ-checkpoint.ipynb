{
 "metadata": {
  "name": "",
  "signature": "sha256:158d57e66a6146a517afb6036508bfb8774e67cd5b491cef662d709cd477ef0b"
 },
 "nbformat": 3,
 "nbformat_minor": 0,
 "worksheets": [
  {
   "cells": [
    {
     "cell_type": "code",
     "collapsed": false,
     "input": [
      "from pandas import *\n",
      "import pandas\n",
      "import numpy as np\n",
      "\n",
      "\"\"\"\n",
      " chamei o script com --pylab=inline entao nao preciso a linha abaix\n",
      " caso contrario descomente-a\n",
      "\"\"\"\n",
      "#mport matplotlib as plt \n",
      "\n",
      "\n",
      "def side_by_side(*objs, **kwds):\n",
      "    from pandas.core.common import adjoin\n",
      "    space = kwds.get('space', 4)\n",
      "    reprs = [repr(obj).split('\\n') for obj in objs]\n",
      "    print(adjoin(space, *reprs))\n",
      "    \n",
      "plt.rc('figure', figsize=(10, 6))\n",
      "#pandas.set_printoptions(notebook_repr_html=False)"
     ],
     "language": "python",
     "metadata": {},
     "outputs": [],
     "prompt_number": 5
    },
    {
     "cell_type": "code",
     "collapsed": false,
     "input": [
      "labels = ['a', 'b','c','d','e']"
     ],
     "language": "python",
     "metadata": {},
     "outputs": [],
     "prompt_number": 3
    },
    {
     "cell_type": "code",
     "collapsed": false,
     "input": [
      "plot(arange(10))"
     ],
     "language": "python",
     "metadata": {},
     "outputs": [
      {
       "metadata": {},
       "output_type": "pyout",
       "prompt_number": 6,
       "text": [
        "[<matplotlib.lines.Line2D at 0x7f4ded1f2cc0>]"
       ]
      },
      {
       "metadata": {},
       "output_type": "display_data",
       "png": "[encoded data removed]",
       "text": [
        "<matplotlib.figure.Figure at 0x7f4ded229080>"
       ]
      }
     ],
     "prompt_number": 6
    },
    {
     "cell_type": "code",
     "collapsed": false,
     "input": [],
     "language": "python",
     "metadata": {},
     "outputs": []
    }
   ],
   "metadata": {}
  }
 ]
}