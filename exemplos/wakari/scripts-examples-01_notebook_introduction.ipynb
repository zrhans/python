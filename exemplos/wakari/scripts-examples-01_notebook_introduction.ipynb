{
 "metadata": {
  "name": "",
  "signature": "sha256:99427a79d500f13f3a1804f16c811582797aebaf2214d8745c2113cd81e80b98"
 },
 "nbformat": 3,
 "nbformat_minor": 0,
 "worksheets": [
  {
   "cells": [
    {
     "cell_type": "markdown",
     "metadata": {},
     "source": [
      "# Welcome to Wakari\n",
      "\n",
      "Wakari has tight integration with the IPython notebook.  \n",
      "\n",
      "* Click the New Notebook button in the navigation bar to create new IPython notebooks.  \n",
      "\n",
      "* Use the file browser on the left to open any existing notebooks\n",
      "\n",
      "* Click on the share icon in the file browser button bar to share a notebook with someone else\n"
     ]
    },
    {
     "cell_type": "markdown",
     "metadata": {},
     "source": [
      "### An introduction to the IPython notebook\n",
      "\n",
      "The IPython notebook is a frontend that allows for new modes\n",
      "of interaction with IPython: this web-based interface allows you to execute Python and IPython\n",
      "commands in each input cell just like you would at the IPython terminal or Qt console, but you can\n",
      "also save an entire session as a document in a file with the `.ipynb` extension.\n",
      "\n",
      "The document you are reading now is precisely an example of one such notebooks, and we will show you\n",
      "here how to best use this new interface.\n",
      "\n",
      "The first thing to understand is that the user interface of the notebook is now **modal**. In a modal user interface, there are different modes of keyboard inputs. The notebook has two modes:\n",
      "\n",
      "* `Edit mode`: for typing into a cell\n",
      "* `Command mode`: for performing notebook and cell actions\n",
      "\n",
      "The second one is that a notebook consists of a sequence of 'cells' that can contain \n",
      "either text (such as this one) or code meant for execution (such as the next one):\n",
      "\n",
      "* `Markdown cells` can be written using [Markdown syntax](http://daringfireball.net/projects/markdown/syntax). \n",
      "When a Markdown cell is executed, the Markdown code is converted into the corresponding formatted rich text. You can also include mathematics using standard LaTeX notation. When the Markdown cell is executed, the LaTeX portions are automatically rendered in the HTML output as equations with high quality typography.\n",
      "\n",
      "* `Header cells` can provide a conceptual structure for your computational document as a whole using different levels of headings. There are 6 levels available, from level 1 (top level) down to level 6 (paragraph). As with Markdown cells, a heading cell is replaced by a rich text rendering of the heading when the cell is executed.\n",
      "\n",
      "* `Raw cells` provide a place in which you can write output directly. Raw cells are not evaluated by the notebook. When passed through nbconvert, raw cells arrive in the destination format unmodified. For example, this allows you to type full LaTeX into a raw cell, which will only be rendered by LaTeX after conversion by nbconvert.\n",
      "\n",
      "* `Code cells` take IPython input (i.e. Python code, `%magics`, `!system calls`, etc.) like IPython at\n",
      "the terminal or at the Qt Console.  The only difference is that in order to execute a cell, you *must*\n",
      "use `Shift-Enter`, as pressing `Enter` in `Edit mode` will add a new line of text to the cell.  When you type \n",
      "`Shift-Enter`, the cell content is executed, output displayed and the next cell is selected (or a new cell is created if the next one doesn't exist yet).  Try it now by putting your cursor on the next cell and typing `Shift-Enter`:"
     ]
    },
    {
     "cell_type": "code",
     "collapsed": true,
     "input": [
      "\"This is the new IPython notebook\""
     ],
     "language": "python",
     "metadata": {},
     "outputs": [
      {
       "metadata": {},
       "output_type": "pyout",
       "prompt_number": 1,
       "text": [
        "'This is the new IPython notebook'"
       ]
      }
     ],
     "prompt_number": 1
    },
    {
     "cell_type": "markdown",
     "metadata": {},
     "source": [
      "You can re-execute the same cell over and over as many times as you want. If you are in `Command mode`, select the cell of interest and press `Enter` to activate the `Edit mode` in that cell or, simply, put your cursor in the cell of interest, edit at will, and type `Shift-Enter` to execute.  \n",
      "\n",
      "**Tip:** A cell can also be executed *in-place*, where IPython executes its content but stays in the same cell. This is done by typing `Ctrl-Enter` instead, and is useful if you want to quickly run a command to check something \n",
      "before typing the real content you want to leave in the cell. For example, in the next cell, try issuing\n",
      "several system commands in-place with `Ctrl-Enter`, such as `pwd` and then `ls` (you will need to shift to `Edit mode` after using `Ctrl-Enter`, just typing `Enter`):"
     ]
    },
    {
     "cell_type": "code",
     "collapsed": true,
     "input": [
      "ls"
     ],
     "language": "python",
     "metadata": {},
     "outputs": [
      {
       "output_type": "stream",
       "stream": "stdout",
       "text": [
        "\u001b[0m\u001b[01;32m00_notebook_tour.ipynb\u001b[0m*\r\n",
        "\u001b[01;32m01_notebook_introduction.ipynb\u001b[0m*\r\n",
        "\u001b[01;32mauto-mpg.csv\u001b[0m*\r\n",
        "close.png\r\n",
        "csna3_ohlc.csv\r\n",
        "img-df-100MA.png\r\n",
        "img-df-3d-01.png\r\n",
        "img-df-3d-HLxClose.png\r\n",
        "img-df-3d-HLxVol.png\r\n",
        "img-df-Close+100MA.png\r\n",
        "img-df-hpm-100MA.png\r\n",
        "img-df-inteiro.png\r\n",
        "img-df-mpl-close-std.png\r\n",
        "img-df-ohlc+100MA.png\r\n",
        "\u001b[01;32mising_model.py\u001b[0m*\r\n",
        "\u001b[01;32mlogo.png\u001b[0m*\r\n",
        "manipulacao-estatistica-de-dados-meteorologicos.ipynb\r\n",
        "\u001b[01;32mmlb_analysis.py\u001b[0m*\r\n",
        "\u001b[01;32mnba_analysis.py\u001b[0m*\r\n",
        "\u001b[01;32mnfl_analysis.py\u001b[0m*\r\n",
        "\u001b[01;32mnhl_analysis.py\u001b[0m*\r\n",
        "\u001b[01;32mnumba_mandelblot.py\u001b[0m*\r\n",
        "\u001b[01;32mpairs_plotting.py\u001b[0m*\r\n",
        "\u001b[01;32mpandas_example.py\u001b[0m*\r\n",
        "\u001b[01;32mpython-logo.svg\u001b[0m*\r\n",
        "\u001b[01;32muefa_2012_analysis.py\u001b[0m*\r\n",
        "\u001b[01;32mweather_station.py\u001b[0m*\r\n",
        "\u001b[01;32mwebplot_example.py\u001b[0m*\r\n",
        "\u001b[m"
       ]
      }
     ],
     "prompt_number": 1
    },
    {
     "cell_type": "markdown",
     "metadata": {},
     "source": [
      "In a cell, you can type anything from a single python expression to an arbitrarily long amount of code \n",
      "(although for reasons of readability, you should probably limit this to a few dozen lines):"
     ]
    },
    {
     "cell_type": "code",
     "collapsed": true,
     "input": [
      "def f(x):\n",
      "    \"\"\"My function\n",
      "    x : parameter\"\"\"\n",
      "    \n",
      "    return x+1\n",
      "\n",
      "print \"f(3) = \", f(3)"
     ],
     "language": "python",
     "metadata": {},
     "outputs": [
      {
       "output_type": "stream",
       "stream": "stdout",
       "text": [
        "f(3) =  4\n"
       ]
      }
     ],
     "prompt_number": 2
    },
    {
     "cell_type": "markdown",
     "metadata": {},
     "source": [
      "## User interface\n",
      "\n",
      "When you start a new notebook server with `ipython notebook`, your\n",
      "browser should open into the *Dashboard*, a page listing all folders and notebooks\n",
      "available in the current directory as well as letting you create new\n",
      "notebooks. In this page, you can also drag and drop existing `.ipynb` notebook files\n",
      "over the file list to import them (see the manual for \n",
      "[further details](http://ipython.org/ipython-doc/stable/interactive/notebook.html)).\n",
      "IPython also supports multi-directory navigation from the *Dashboard*.\n",
      "\n",
      "Once you open an existing notebook (like this one) or create a new one,\n",
      "you are in the main notebook interface, which consists of a main editing\n",
      "area (where these cells are contained) as well as a fixed header bar and a toggle-able menu at the top, and a pager that rises from the bottom when needed and can be collapsed again."
     ]
    },
    {
     "cell_type": "markdown",
     "metadata": {},
     "source": [
      "### Main editing area\n",
      "\n",
      "Here, you can move with the arrow keys or using the \n",
      "scroll bars.  The cursor enters code cells immediately, but only selects\n",
      "text (markdown) cells without entering in them; to enter a text cell,\n",
      "use `Enter`, to exit it use `Esc` and to render it use `Shift-Enter` (just like to execute a \n",
      "code cell)."
     ]
    },
    {
     "cell_type": "markdown",
     "metadata": {},
     "source": [
      "### Header bar\n",
      "\n",
      "The header area at the top allows you to rename an existing \n",
      "notebook and open up the *Dashboard* just clicking on the `IP[y]: Notebook` logo.  This area also indicates\n",
      "the day and time when the last *Checkpoint* was created. For more information about *Saving* and *Checkpoints* see below."
     ]
    },
    {
     "cell_type": "markdown",
     "metadata": {},
     "source": [
      "### Menu and Toolbar\n",
      "\n",
      "The `Menu` bar presents different options that may be used to manipulate the way the notebook functions.\n",
      "\n",
      "The *File* section contains actions that pertain to the whole notebook,\n",
      "such as downloading the current notebook either in its original format\n",
      "or as a `.py` script, and printing it.  When you click the `Print` button,\n",
      "a new HTML page opens with a static copy of the notebook; you can then\n",
      "use your web browser's mechanisms to save or print this file. You can also `Save`\n",
      "your document or revert to a previous `Checkpoint`, make a copy of the current notebook\n",
      "or open a new one.\n",
      "\n",
      "The *Edit* section contains actions that pertain to the manipulation of cells, \n",
      "such as cut, copy and paste cells. Move up or down cells, merge above or below the \n",
      "current cell, and finally, access to edit the notebook metadata.\n",
      "\n",
      "The *View* section lets you toggle the Menu and the Toolbar.\n",
      "\n",
      "The *Cell* section lets you manipulate individual cells, and the names should \n",
      "be fairly self-explanatory.\n",
      "\n",
      "The *Kernel* section lets you signal the kernel executing your code. \n",
      "`Interrupt` does the equivalent of hitting `Ctrl-C` at a terminal, and\n",
      "`Restart` fully kills the kernel process and starts a fresh one.  Obviously\n",
      "this means that all your previous variables are destroyed, but it also\n",
      "makes it easy to get a fresh kernel in which to re-execute a notebook, perhaps\n",
      "after changing an extension module for which Python's `reload` mechanism\n",
      "does not work. When you close the page IPython will not automatically shut down the running kernel\n",
      "(use `Close and halt` from the `File` menu to do it). The kernels won't close until you stop them at the *Dashboard* or hitting `Ctrl-C` at a terminal.\n",
      "\n",
      "The *Help* section contains links to the documentation of IPython itself and to some projects\n",
      "closely related to IPython as well as the keybindings you need to\n",
      "know. You should press `h` (or click the `Keyboard Shortcuts` button at\n",
      "the top of Help section) and learn some of the keybindings, as it will make your \n",
      "workflow much more fluid and efficient.\n",
      "\n",
      "At the right corner of the `Menu` bar you will see two icons. The first one is a pencil icon and it will be shown when you are in `Edit mode`. The second one is a *full* circle when the kernel is running computations and a empty circle otherwise.\n",
      "\n",
      "The `Tool` bar gives a quick way of performing the most-used operations within the notebook, by clicking on an icon.\n",
      "The icons are self-explanatory, but if you have doubts about the function they trigger just put your cursor over them and hover with minimal information will show you which function that icon executes.\n",
      "\n",
      "Finally, you will have two dropdown menus:\n",
      "\n",
      "* the `Cell Tollbar`, which enable a new toolbar above each cell and let you modified cell-level metadata.\n",
      "* the `Environment` (Wakaki-specific feature), which lets you select the environment (unique version of Python and NumPy, along with various versions of other packages) you want to use."
     ]
    },
    {
     "cell_type": "markdown",
     "metadata": {},
     "source": [
      "### The pager at the bottom\n",
      "\n",
      "Whenever IPython needs to display additional \n",
      "information, such as when you type `somefunction?` in a cell, the notebook\n",
      "opens a pane at the bottom where this information is shown.  You can keep\n",
      "this pager pane open for reference (it doesn't block input in the main area)\n",
      "or dismiss it by clicking on its divider bar or the closing icon at the right corner."
     ]
    },
    {
     "cell_type": "markdown",
     "metadata": {},
     "source": [
      "### Tab completion and tooltips\n",
      "\n",
      "The notebook uses the same underlying machinery for tab completion that \n",
      "IPython uses at the terminal, but displays the information differently.\n",
      "Whey you complete with the `Tab` key, IPython shows a drop list with all\n",
      "available completions.  If you type more characters while this list is open,\n",
      "IPython automatically eliminates from the list options that don't match the\n",
      "new characters; once there is only one option left you can hit `Tab` once\n",
      "more (or `Enter`) to complete.  You can also select the completion you\n",
      "want with the arrow keys or the mouse, and then hit `Enter`.\n",
      "\n",
      "In addition, if you hit `Shift-Tab` inside of open parentheses, IPython will \n",
      "search for the docstring of the last object left of the parens and will\n",
      "display it on a tooltip. For example, type `list(<Shift><TAB>` and you will\n",
      "see the docstring for the builtin `list` constructor:"
     ]
    },
    {
     "cell_type": "code",
     "collapsed": false,
     "input": [
      "# Position your cursor after the ( and hit the Tab key:\n",
      "list("
     ],
     "language": "python",
     "metadata": {},
     "outputs": [
      {
       "ename": "SyntaxError",
       "evalue": "invalid syntax (<ipython-input-4-4e5b03466919>, line 2)",
       "output_type": "pyerr",
       "traceback": [
        "\u001b[1;36m  File \u001b[1;32m\"<ipython-input-4-4e5b03466919>\"\u001b[1;36m, line \u001b[1;32m2\u001b[0m\n\u001b[1;33m    list(\u001b[0m\n\u001b[1;37m         ^\u001b[0m\n\u001b[1;31mSyntaxError\u001b[0m\u001b[1;31m:\u001b[0m invalid syntax\n"
       ]
      }
     ],
     "prompt_number": 4
    },
    {
     "cell_type": "markdown",
     "metadata": {},
     "source": []
    },
    {
     "cell_type": "markdown",
     "metadata": {},
     "source": [
      "## The frontend/kernel model\n",
      "\n",
      "The IPython notebook works on a client/server model where an *IPython kernel*\n",
      "starts in a separate process and executes the code you type,\n",
      "while the web browser acts as a client, providing a front end environment\n",
      "for you to type.  But one kernel is capable of simultaneously talking to more than\n",
      "one client, and they do not all need to be of the same kind.  All IPython frontends\n",
      "are capable of communicating with a kernel, and any number of them can be active\n",
      "at the same time.  In addition to allowing you to have, for example, more than one\n",
      "browser session active, this lets you connect clients with different user interface features.\n",
      "\n",
      "For example, you may want to connect a Qt console to your kernel and use it as a help\n",
      "browser, calling `??` on objects in the Qt console (whose pager is more flexible than the\n",
      "one in the notebook).  You can start a new Qt console connected to your current kernel by \n",
      "using the `%qtconsole` magic, this will automatically detect the necessary connection\n",
      "information.\n",
      "\n",
      "If you want to open one manually, or want to open a text console from a terminal, you can \n",
      "get your kernel's connection information with the `%connect_info` magic:"
     ]
    },
    {
     "cell_type": "code",
     "collapsed": true,
     "input": [
      "%connect_info"
     ],
     "language": "python",
     "metadata": {},
     "outputs": [
      {
       "output_type": "stream",
       "stream": "stdout",
       "text": [
        "{\n",
        "  \"stdin_port\": 33488, \n",
        "  \"ip\": \"127.0.0.1\", \n",
        "  \"control_port\": 48060, \n",
        "  \"hb_port\": 48697, \n",
        "  \"signature_scheme\": \"hmac-sha256\", \n",
        "  \"key\": \"51dd0c7d-8668-42d2-8804-a13b267e1f76\", \n",
        "  \"shell_port\": 44372, \n",
        "  \"transport\": \"tcp\", \n",
        "  \"iopub_port\": 40856\n",
        "}\n",
        "\n",
        "Paste the above JSON into a file, and connect with:\n",
        "    $> ipython <app> --existing <file>\n",
        "or, if you are local, you can connect with just:\n",
        "    $> ipython <app> --existing kernel-fb8940ee-0229-409e-a2e7-af0eb9385d35.json \n",
        "or even just:\n",
        "    $> ipython <app> --existing \n",
        "if this is the most recent IPython session you have started.\n"
       ]
      }
     ],
     "prompt_number": 3
    },
    {
     "cell_type": "markdown",
     "metadata": {},
     "source": [
      "## The kernel's `raw_input` and `%debug`\n",
      "\n",
      "One of the major missing features in the notebook prior to version 1.0 is the lack of raw_input support. This has been remedied! Now the notebook supports the ability to send data to the kernel's standard input socket. This happens for example if you run a script that queries interactively for parameters, and very importantly, is how the interactive IPython debugger that activates when you type `%debug` works.\n",
      "\n",
      "So, in order to be able to use `%debug` or anything else that requires `raw_input`, just use the notebook interface."
     ]
    },
    {
     "cell_type": "markdown",
     "metadata": {},
     "source": [
      "## Display of complex objects\n",
      "\n",
      "As the 'tour' notebook shows, the IPython notebook has fairly sophisticated display capabilities.  In addition\n",
      "to the examples there, you can study the `display_protocol` notebook in this same examples folder, to \n",
      "learn how to customize arbitrary objects (in your own code or external libraries) to display in the notebook\n",
      "in any way you want, including graphical forms or mathematical expressions."
     ]
    },
    {
     "cell_type": "markdown",
     "metadata": {},
     "source": [
      "## Plotting support\n",
      "\n",
      "As we've explained already, the notebook is just another frontend talking to the same IPython kernel that\n",
      "you're already familiar with, so the same options for plotting support apply.\n",
      "\n",
      "If you start the notebook with `--matplotlib`, you will get matplotlib's floating, interactive windows and you\n",
      "can call the `display` function to paste figures into the notebook document.  If you start it with \n",
      "`--matplotlib inline`, all plots will appear inline automatically.  In this regard, the notebook works identically\n",
      "to the Qt console. Note that if you start the notebook server with matplotlib support, *all* kernels are automatically started in matplotlib mode and with the same choice of backend (i.e. floating windows or inline figures), moreover if you want to share your notebook with others you have to explicitly say to them about starting the notebook server with the matplotlib suppport. So, it is strongly recommended to start the notebook server simply by typing `ipython notebook`, and then selectively turn on matplotlib support only for the notebooks you want by using the `%matplotlib` magic (see its docstring for details)."
     ]
    },
    {
     "cell_type": "code",
     "collapsed": true,
     "input": [
      "import numpy as np\n",
      "import matplotlib\n",
      "import matplotlib.pyplot as plt\n",
      "%matplotlib inline\n",
      "\n",
      "plt.plot(np.random.rand(100));"
     ],
     "language": "python",
     "metadata": {},
     "outputs": [
      {
       "ename": "ImportError",
       "evalue": "libpng15.so.15: cannot open shared object file: No such file or directory",
       "output_type": "pyerr",
       "traceback": [
        "\u001b[1;31m---------------------------------------------------------------------------\u001b[0m\n\u001b[1;31mImportError\u001b[0m                               Traceback (most recent call last)",
        "\u001b[1;32m<ipython-input-5-caad0021754d>\u001b[0m in \u001b[0;36m<module>\u001b[1;34m()\u001b[0m\n\u001b[0;32m      1\u001b[0m \u001b[1;32mimport\u001b[0m \u001b[0mnumpy\u001b[0m \u001b[1;32mas\u001b[0m \u001b[0mnp\u001b[0m\u001b[1;33m\u001b[0m\u001b[0m\n\u001b[0;32m      2\u001b[0m \u001b[1;32mimport\u001b[0m \u001b[0mmatplotlib\u001b[0m\u001b[1;33m\u001b[0m\u001b[0m\n\u001b[1;32m----> 3\u001b[1;33m \u001b[1;32mimport\u001b[0m \u001b[0mmatplotlib\u001b[0m\u001b[1;33m.\u001b[0m\u001b[0mpyplot\u001b[0m \u001b[1;32mas\u001b[0m \u001b[0mplt\u001b[0m\u001b[1;33m\u001b[0m\u001b[0m\n\u001b[0m\u001b[0;32m      4\u001b[0m \u001b[0mget_ipython\u001b[0m\u001b[1;33m(\u001b[0m\u001b[1;33m)\u001b[0m\u001b[1;33m.\u001b[0m\u001b[0mmagic\u001b[0m\u001b[1;33m(\u001b[0m\u001b[1;34mu'matplotlib inline'\u001b[0m\u001b[1;33m)\u001b[0m\u001b[1;33m\u001b[0m\u001b[0m\n\u001b[0;32m      5\u001b[0m \u001b[1;33m\u001b[0m\u001b[0m\n",
        "\u001b[1;32m/opt/anaconda/envs/np18py27-1.9/lib/python2.7/site-packages/matplotlib/pyplot.py\u001b[0m in \u001b[0;36m<module>\u001b[1;34m()\u001b[0m\n\u001b[0;32m     22\u001b[0m \u001b[1;33m\u001b[0m\u001b[0m\n\u001b[0;32m     23\u001b[0m \u001b[1;32mimport\u001b[0m \u001b[0mmatplotlib\u001b[0m\u001b[1;33m\u001b[0m\u001b[0m\n\u001b[1;32m---> 24\u001b[1;33m \u001b[1;32mimport\u001b[0m \u001b[0mmatplotlib\u001b[0m\u001b[1;33m.\u001b[0m\u001b[0mcolorbar\u001b[0m\u001b[1;33m\u001b[0m\u001b[0m\n\u001b[0m\u001b[0;32m     25\u001b[0m \u001b[1;32mfrom\u001b[0m \u001b[0mmatplotlib\u001b[0m \u001b[1;32mimport\u001b[0m \u001b[0m_pylab_helpers\u001b[0m\u001b[1;33m,\u001b[0m \u001b[0minteractive\u001b[0m\u001b[1;33m\u001b[0m\u001b[0m\n\u001b[0;32m     26\u001b[0m \u001b[1;32mfrom\u001b[0m \u001b[0mmatplotlib\u001b[0m\u001b[1;33m.\u001b[0m\u001b[0mcbook\u001b[0m \u001b[1;32mimport\u001b[0m \u001b[0mdedent\u001b[0m\u001b[1;33m,\u001b[0m \u001b[0msilent_list\u001b[0m\u001b[1;33m,\u001b[0m \u001b[0mis_string_like\u001b[0m\u001b[1;33m,\u001b[0m \u001b[0mis_numlike\u001b[0m\u001b[1;33m\u001b[0m\u001b[0m\n",
        "\u001b[1;32m/opt/anaconda/envs/np18py27-1.9/lib/python2.7/site-packages/matplotlib/colorbar.py\u001b[0m in \u001b[0;36m<module>\u001b[1;34m()\u001b[0m\n\u001b[0;32m     27\u001b[0m \u001b[1;32mimport\u001b[0m \u001b[0mmatplotlib\u001b[0m\u001b[1;33m.\u001b[0m\u001b[0martist\u001b[0m \u001b[1;32mas\u001b[0m \u001b[0mmartist\u001b[0m\u001b[1;33m\u001b[0m\u001b[0m\n\u001b[0;32m     28\u001b[0m \u001b[1;32mimport\u001b[0m \u001b[0mmatplotlib\u001b[0m\u001b[1;33m.\u001b[0m\u001b[0mcbook\u001b[0m \u001b[1;32mas\u001b[0m \u001b[0mcbook\u001b[0m\u001b[1;33m\u001b[0m\u001b[0m\n\u001b[1;32m---> 29\u001b[1;33m \u001b[1;32mimport\u001b[0m \u001b[0mmatplotlib\u001b[0m\u001b[1;33m.\u001b[0m\u001b[0mcollections\u001b[0m \u001b[1;32mas\u001b[0m \u001b[0mcollections\u001b[0m\u001b[1;33m\u001b[0m\u001b[0m\n\u001b[0m\u001b[0;32m     30\u001b[0m \u001b[1;32mimport\u001b[0m \u001b[0mmatplotlib\u001b[0m\u001b[1;33m.\u001b[0m\u001b[0mcolors\u001b[0m \u001b[1;32mas\u001b[0m \u001b[0mcolors\u001b[0m\u001b[1;33m\u001b[0m\u001b[0m\n\u001b[0;32m     31\u001b[0m \u001b[1;32mimport\u001b[0m \u001b[0mmatplotlib\u001b[0m\u001b[1;33m.\u001b[0m\u001b[0mcontour\u001b[0m \u001b[1;32mas\u001b[0m \u001b[0mcontour\u001b[0m\u001b[1;33m\u001b[0m\u001b[0m\n",
        "\u001b[1;32m/opt/anaconda/envs/np18py27-1.9/lib/python2.7/site-packages/matplotlib/collections.py\u001b[0m in \u001b[0;36m<module>\u001b[1;34m()\u001b[0m\n\u001b[0;32m     21\u001b[0m \u001b[1;32mimport\u001b[0m \u001b[0mmatplotlib\u001b[0m\u001b[1;33m.\u001b[0m\u001b[0martist\u001b[0m \u001b[1;32mas\u001b[0m \u001b[0martist\u001b[0m\u001b[1;33m\u001b[0m\u001b[0m\n\u001b[0;32m     22\u001b[0m \u001b[1;32mfrom\u001b[0m \u001b[0mmatplotlib\u001b[0m\u001b[1;33m.\u001b[0m\u001b[0martist\u001b[0m \u001b[1;32mimport\u001b[0m \u001b[0mallow_rasterization\u001b[0m\u001b[1;33m\u001b[0m\u001b[0m\n\u001b[1;32m---> 23\u001b[1;33m \u001b[1;32mimport\u001b[0m \u001b[0mmatplotlib\u001b[0m\u001b[1;33m.\u001b[0m\u001b[0mbackend_bases\u001b[0m \u001b[1;32mas\u001b[0m \u001b[0mbackend_bases\u001b[0m\u001b[1;33m\u001b[0m\u001b[0m\n\u001b[0m\u001b[0;32m     24\u001b[0m \u001b[1;32mimport\u001b[0m \u001b[0mmatplotlib\u001b[0m\u001b[1;33m.\u001b[0m\u001b[0mpath\u001b[0m \u001b[1;32mas\u001b[0m \u001b[0mmpath\u001b[0m\u001b[1;33m\u001b[0m\u001b[0m\n\u001b[0;32m     25\u001b[0m \u001b[1;32mfrom\u001b[0m \u001b[0mmatplotlib\u001b[0m \u001b[1;32mimport\u001b[0m \u001b[0m_path\u001b[0m\u001b[1;33m\u001b[0m\u001b[0m\n",
        "\u001b[1;32m/opt/anaconda/envs/np18py27-1.9/lib/python2.7/site-packages/matplotlib/backend_bases.py\u001b[0m in \u001b[0;36m<module>\u001b[1;34m()\u001b[0m\n\u001b[0;32m     48\u001b[0m \u001b[1;33m\u001b[0m\u001b[0m\n\u001b[0;32m     49\u001b[0m \u001b[1;32mimport\u001b[0m \u001b[0mmatplotlib\u001b[0m\u001b[1;33m.\u001b[0m\u001b[0mtight_bbox\u001b[0m \u001b[1;32mas\u001b[0m \u001b[0mtight_bbox\u001b[0m\u001b[1;33m\u001b[0m\u001b[0m\n\u001b[1;32m---> 50\u001b[1;33m \u001b[1;32mimport\u001b[0m \u001b[0mmatplotlib\u001b[0m\u001b[1;33m.\u001b[0m\u001b[0mtextpath\u001b[0m \u001b[1;32mas\u001b[0m \u001b[0mtextpath\u001b[0m\u001b[1;33m\u001b[0m\u001b[0m\n\u001b[0m\u001b[0;32m     51\u001b[0m \u001b[1;32mfrom\u001b[0m \u001b[0mmatplotlib\u001b[0m\u001b[1;33m.\u001b[0m\u001b[0mpath\u001b[0m \u001b[1;32mimport\u001b[0m \u001b[0mPath\u001b[0m\u001b[1;33m\u001b[0m\u001b[0m\n\u001b[0;32m     52\u001b[0m \u001b[1;32mfrom\u001b[0m \u001b[0mmatplotlib\u001b[0m\u001b[1;33m.\u001b[0m\u001b[0mcbook\u001b[0m \u001b[1;32mimport\u001b[0m \u001b[0mmplDeprecation\u001b[0m\u001b[1;33m\u001b[0m\u001b[0m\n",
        "\u001b[1;32m/opt/anaconda/envs/np18py27-1.9/lib/python2.7/site-packages/matplotlib/textpath.py\u001b[0m in \u001b[0;36m<module>\u001b[1;34m()\u001b[0m\n\u001b[0;32m     12\u001b[0m \u001b[1;32mfrom\u001b[0m \u001b[0mmatplotlib\u001b[0m\u001b[1;33m.\u001b[0m\u001b[0mft2font\u001b[0m \u001b[1;32mimport\u001b[0m \u001b[0mFT2Font\u001b[0m\u001b[1;33m,\u001b[0m \u001b[0mKERNING_DEFAULT\u001b[0m\u001b[1;33m,\u001b[0m \u001b[0mLOAD_NO_HINTING\u001b[0m\u001b[1;33m\u001b[0m\u001b[0m\n\u001b[0;32m     13\u001b[0m \u001b[1;32mfrom\u001b[0m \u001b[0mmatplotlib\u001b[0m\u001b[1;33m.\u001b[0m\u001b[0mft2font\u001b[0m \u001b[1;32mimport\u001b[0m \u001b[0mLOAD_TARGET_LIGHT\u001b[0m\u001b[1;33m\u001b[0m\u001b[0m\n\u001b[1;32m---> 14\u001b[1;33m \u001b[1;32mfrom\u001b[0m \u001b[0mmatplotlib\u001b[0m\u001b[1;33m.\u001b[0m\u001b[0mmathtext\u001b[0m \u001b[1;32mimport\u001b[0m \u001b[0mMathTextParser\u001b[0m\u001b[1;33m\u001b[0m\u001b[0m\n\u001b[0m\u001b[0;32m     15\u001b[0m \u001b[1;32mimport\u001b[0m \u001b[0mmatplotlib\u001b[0m\u001b[1;33m.\u001b[0m\u001b[0mdviread\u001b[0m \u001b[1;32mas\u001b[0m \u001b[0mdviread\u001b[0m\u001b[1;33m\u001b[0m\u001b[0m\n\u001b[0;32m     16\u001b[0m \u001b[1;32mfrom\u001b[0m \u001b[0mmatplotlib\u001b[0m\u001b[1;33m.\u001b[0m\u001b[0mfont_manager\u001b[0m \u001b[1;32mimport\u001b[0m \u001b[0mFontProperties\u001b[0m\u001b[1;33m\u001b[0m\u001b[0m\n",
        "\u001b[1;32m/opt/anaconda/envs/np18py27-1.9/lib/python2.7/site-packages/matplotlib/mathtext.py\u001b[0m in \u001b[0;36m<module>\u001b[1;34m()\u001b[0m\n\u001b[0;32m     60\u001b[0m \u001b[1;33m\u001b[0m\u001b[0m\n\u001b[0;32m     61\u001b[0m \u001b[1;32mimport\u001b[0m \u001b[0mmatplotlib\u001b[0m\u001b[1;33m.\u001b[0m\u001b[0mcolors\u001b[0m \u001b[1;32mas\u001b[0m \u001b[0mmcolors\u001b[0m\u001b[1;33m\u001b[0m\u001b[0m\n\u001b[1;32m---> 62\u001b[1;33m \u001b[1;32mimport\u001b[0m \u001b[0mmatplotlib\u001b[0m\u001b[1;33m.\u001b[0m\u001b[0m_png\u001b[0m \u001b[1;32mas\u001b[0m \u001b[0m_png\u001b[0m\u001b[1;33m\u001b[0m\u001b[0m\n\u001b[0m\u001b[0;32m     63\u001b[0m \u001b[1;31m####################\u001b[0m\u001b[1;33m\u001b[0m\u001b[1;33m\u001b[0m\u001b[0m\n\u001b[0;32m     64\u001b[0m \u001b[1;33m\u001b[0m\u001b[0m\n",
        "\u001b[1;31mImportError\u001b[0m: libpng15.so.15: cannot open shared object file: No such file or directory"
       ]
      }
     ],
     "prompt_number": 5
    },
    {
     "cell_type": "markdown",
     "metadata": {},
     "source": [
      "## Autosave and Checkpoints\n",
      "\n",
      "As of 1.0, IPython notebooks are autosaved at a frequency of approximately two minutes.\n",
      "You can change this frequency with the %autosave magic. If you save manually, IPython creates a `Checkpoint` to which you can revert at a later time, so that autosave won't result in overwriting unwanted changes. In this way, autosave is *strictly safer* than the previous behavior in terms of data loss - manually saved state will never be lost due to autosave."
     ]
    },
    {
     "cell_type": "code",
     "collapsed": false,
     "input": [],
     "language": "python",
     "metadata": {},
     "outputs": []
    },
    {
     "cell_type": "markdown",
     "metadata": {},
     "source": [
      "## Security\n",
      "\n",
      "By default the notebook only listens on localhost, so it does not expose your computer to attacks coming from\n",
      "the internet.  By default the notebook does not require any authentication, but you can configure it to\n",
      "ask for a password before allowing access to the files.  \n",
      "\n",
      "Furthermore, you can require the notebook to encrypt all communications by using SSL and making all connections\n",
      "using the https protocol instead of plain http.  This is a good idea if you decide to run your notebook on\n",
      "addresses that are visible from the internet.  For further details on how to configure this, see the\n",
      "[security section](http://ipython.org/ipython-doc/stable/interactive/htmlnotebook.html#security) of the \n",
      "manual."
     ]
    },
    {
     "cell_type": "markdown",
     "metadata": {},
     "source": [
      "##Signing Notebooks\n",
      "\n",
      "To prevent untrusted code from executing on users' behalf when notebooks open, we have added a signature to the notebook, stored in metadata. The notebook server verifies this signature when a notebook is opened. If the signature stored in the notebook metadata does not match, javascript and HTML output will not be displayed on load, and must be regenerated by re-executing the cells.\n",
      "\n",
      "Any notebook that you have executed yourself in its entirety will be considered trusted, and its HTML and javascript output will be displayed on load.\n",
      "\n",
      "If you need to see HTML or javascript output without re-executing, you can explicitly trust notebooks, such as those shared with you, or those that you have written yourself prior to IPython 2.0, at the command-line with:\n",
      "\n",
      "`$ ipython trust mynotebook.ipynb [other notebooks.ipynb]`\n",
      "\n",
      "This just generates a new signature stored in each notebook."
     ]
    },
    {
     "cell_type": "code",
     "collapsed": false,
     "input": [],
     "language": "python",
     "metadata": {},
     "outputs": []
    }
   ],
   "metadata": {}
  }
 ]
}