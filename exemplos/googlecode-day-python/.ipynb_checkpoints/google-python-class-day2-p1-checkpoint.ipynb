{
 "cells": [
  {
   "cell_type": "markdown",
   "metadata": {},
   "source": [
    "# Google Python Class Day 2 Part 1 \n",
    "\n",
    "[Fonte: Youtube](https://www.youtube.com/watch?v=kWyoYtvJpe4)\n",
    "\n",
    "Nick Parlante - Google engEDU\n",
    "\n",
    "----\n",
    "### Topico:\n",
    "* Expressoes Regulares"
   ]
  },
  {
   "cell_type": "code",
   "execution_count": 1,
   "metadata": {
    "collapsed": true
   },
   "outputs": [],
   "source": [
    "# Importando o modulo de expressoes regulares\n",
    "import re"
   ]
  },
  {
   "cell_type": "code",
   "execution_count": 3,
   "metadata": {
    "collapsed": true
   },
   "outputs": [],
   "source": [
    "\"\"\"\n",
    "Sintax: match = re.serach(pat, text)\n",
    "\"\"\"\n",
    "match = re.search('iig','camado piiig')"
   ]
  },
  {
   "cell_type": "code",
   "execution_count": 5,
   "metadata": {
    "collapsed": false
   },
   "outputs": [
    {
     "data": {
      "text/plain": [
       "'iig'"
      ]
     },
     "execution_count": 5,
     "metadata": {},
     "output_type": "execute_result"
    }
   ],
   "source": [
    "# O metodo group do objeto retorna o que match encontrou\n",
    "match.group()"
   ]
  },
  {
   "cell_type": "markdown",
   "metadata": {
    "collapsed": false
   },
   "source": [
    "O que acontece se se nenhum padrao (pat) for encontrado? qual o retorno de match? match (que 'e um apontamento para um objeto) apontara para o que? Resposta: Para um objeto do Tipo **NoneType** que eh um objeto sem atributos.\n",
    "```python\n",
    "Traceback (most recent call last)\n",
    "<ipython-input-7-60588f6cca9c> in <module>()\n",
    "----> 1 match.group()\n",
    "\n",
    "AttributeError: 'NoneType' object has no attribute 'group'\n",
    "```"
   ]
  },
  {
   "cell_type": "code",
   "execution_count": 6,
   "metadata": {
    "collapsed": false
   },
   "outputs": [],
   "source": [
    "# Padrao nao existente\n",
    "match = re.search('iigs','camado piiig')"
   ]
  },
  {
   "cell_type": "markdown",
   "metadata": {
    "collapsed": false
   },
   "source": [
    "Vamos criar um prototipo de funcao para buscas por padrao textuais em um texto generico. "
   ]
  },
  {
   "cell_type": "code",
   "execution_count": 11,
   "metadata": {
    "collapsed": false
   },
   "outputs": [],
   "source": [
    "# Criando prototipo de funcao Find\n",
    "def Find(pat, text):\n",
    "    match = re.search(pat,text)\n",
    "    if match: print match.group()\n",
    "    else: print('Nao encontrado')\n",
    "            "
   ]
  },
  {
   "cell_type": "code",
   "execution_count": 13,
   "metadata": {
    "collapsed": false
   },
   "outputs": [
    {
     "name": "stdout",
     "output_type": "stream",
     "text": [
      "Nao encontrado\n"
     ]
    }
   ],
   "source": [
    "Find('igs','piiig')"
   ]
  },
  {
   "cell_type": "markdown",
   "metadata": {},
   "source": [
    "### Padroes\n",
    "```\n",
    "  .  (ponto) qualquer caractere\n",
    "  \\w caractere tipo word [a-zA-Z_]\n",
    "  \\d digito\n",
    "  \\s espaco em branco\n",
    "  \\S exceto espaco em branco\n",
    "  +  1 ou mais\n",
    "  *  0 ou mais\n",
    "```\n"
   ]
  },
  {
   "cell_type": "code",
   "execution_count": 18,
   "metadata": {
    "collapsed": false
   },
   "outputs": [
    {
     "name": "stdout",
     "output_type": "stream",
     "text": [
      "iiig\n"
     ]
    }
   ],
   "source": [
    "# Procurar quaisquer 3 caracteres seguidos de um g\n",
    "Find('...g','piiig')"
   ]
  },
  {
   "cell_type": "markdown",
   "metadata": {},
   "source": [
    "A busca usando re para na analise (da esquerda para a direita) na primeira ocorrencia do padrao. Veja no exemplo, onde esperavamos que **yzg** tambem casasse (match) com o padrao."
   ]
  },
  {
   "cell_type": "code",
   "execution_count": 19,
   "metadata": {
    "collapsed": false
   },
   "outputs": [
    {
     "name": "stdout",
     "output_type": "stream",
     "text": [
      "iig\n"
     ]
    }
   ],
   "source": [
    "Find('..g','piiig   muito melhor: xyzg')"
   ]
  },
  {
   "cell_type": "code",
   "execution_count": 24,
   "metadata": {
    "collapsed": false
   },
   "outputs": [
    {
     "name": "stdout",
     "output_type": "stream",
     "text": [
      ":cat\n"
     ]
    }
   ],
   "source": [
    "# Procurar um periodo formado por dois pontos seguidos por tres letras\n",
    "Find(':\\w\\w\\w','bla :cat bla bla bla')"
   ]
  },
  {
   "cell_type": "code",
   "execution_count": 30,
   "metadata": {
    "collapsed": false
   },
   "outputs": [
    {
     "name": "stdout",
     "output_type": "stream",
     "text": [
      "123\n",
      "007\n"
     ]
    }
   ],
   "source": [
    "# Procurar 3 digitos em uma sentenca\n",
    "Find('\\d\\d\\d','bla :123xxx')\n",
    "Find('\\d\\d\\d','bla :car007xxx')"
   ]
  },
  {
   "cell_type": "code",
   "execution_count": 34,
   "metadata": {
    "collapsed": false
   },
   "outputs": [
    {
     "name": "stdout",
     "output_type": "stream",
     "text": [
      "1 2 3\n"
     ]
    }
   ],
   "source": [
    "# Trabalhando com espacos\n",
    "Find('\\d\\s\\d\\s\\d','bla :1 2 3')"
   ]
  },
  {
   "cell_type": "code",
   "execution_count": 35,
   "metadata": {
    "collapsed": false
   },
   "outputs": [
    {
     "name": "stdout",
     "output_type": "stream",
     "text": [
      "1   2     3\n"
     ]
    }
   ],
   "source": [
    "# Quando ha mais de um espaco entre o padrao, usa-se + ou *\n",
    "Find('\\d\\s+\\d\\s+\\d', '1   2     3')"
   ]
  },
  {
   "cell_type": "code",
   "execution_count": 36,
   "metadata": {
    "collapsed": false
   },
   "outputs": [
    {
     "name": "stdout",
     "output_type": "stream",
     "text": [
      ":este_periodo\n"
     ]
    }
   ],
   "source": [
    "# Encontrar dois pontos (:) seguidos de um periodo qualquer\n",
    "Find(':\\w+', 'bla bla :este_periodo bla bla')"
   ]
  },
  {
   "cell_type": "code",
   "execution_count": 37,
   "metadata": {
    "collapsed": false
   },
   "outputs": [
    {
     "name": "stdout",
     "output_type": "stream",
     "text": [
      ":este_periodo bla bla\n"
     ]
    }
   ],
   "source": [
    "# Returnar o que for a partir dos dois pontos (:)\n",
    "Find(':.+', 'bla bla :este_periodo bla bla')"
   ]
  },
  {
   "cell_type": "code",
   "execution_count": 38,
   "metadata": {
    "collapsed": false
   },
   "outputs": [
    {
     "name": "stdout",
     "output_type": "stream",
     "text": [
      ":este_periodo123&patty=jui&m=\"021\"\n"
     ]
    }
   ],
   "source": [
    "# Retornar o que for a partir dos dois pontos (:) ate encontar um espaco em branco. \n",
    "Find(':\\S+', 'bla bla :este_periodo123&patty=jui&m=\"021\" bla bla')"
   ]
  },
  {
   "cell_type": "code",
   "execution_count": 60,
   "metadata": {
    "collapsed": false
   },
   "outputs": [
    {
     "name": "stdout",
     "output_type": "stream",
     "text": [
      "z@gmail\n"
     ]
    }
   ],
   "source": [
    "# Verificando padroes de e-mail (quaisquer word antes e seguindo o @)\n",
    "Find('\\w+@\\w+', 'blah hans.z@gmail.com usr @ serveer 1 2 3')"
   ]
  },
  {
   "cell_type": "markdown",
   "metadata": {},
   "source": [
    "Para pegar o ponto usamos a notacao de conjunto `[]` ouseja `[\\w.]+` qualquer caractere mais o ponto uma ou mais vezes que aparecerem"
   ]
  },
  {
   "cell_type": "code",
   "execution_count": 48,
   "metadata": {
    "collapsed": false
   },
   "outputs": [
    {
     "name": "stdout",
     "output_type": "stream",
     "text": [
      "hans.z@gmail.com\n"
     ]
    }
   ],
   "source": [
    "Find('[\\w.]+@[\\w.]+', 'blah hans.z@gmail.com usr @ serveer 1 2 3')"
   ]
  },
  {
   "cell_type": "markdown",
   "metadata": {},
   "source": [
    "Obtendo o usuario e o servidor do endereco de e-mail"
   ]
  },
  {
   "cell_type": "code",
   "execution_count": 57,
   "metadata": {
    "collapsed": false
   },
   "outputs": [
    {
     "data": {
      "text/plain": [
       "'hans.z'"
      ]
     },
     "execution_count": 57,
     "metadata": {},
     "output_type": "execute_result"
    }
   ],
   "source": [
    "# Usamos o parentesis nas partes (membros) que nos interessam\n",
    "m = re.search('([\\w.]+)@([\\w.]+)', 'blah hans.z@gmail.com usr @ serveer 1     2        3')\n",
    "#m.group()\n",
    "m.group(1)"
   ]
  },
  {
   "cell_type": "code",
   "execution_count": 56,
   "metadata": {
    "collapsed": false
   },
   "outputs": [
    {
     "data": {
      "text/plain": [
       "'gmail.com'"
      ]
     },
     "execution_count": 56,
     "metadata": {},
     "output_type": "execute_result"
    }
   ],
   "source": [
    "m.group(2)"
   ]
  },
  {
   "cell_type": "code",
   "execution_count": 58,
   "metadata": {
    "collapsed": false
   },
   "outputs": [
    {
     "data": {
      "text/plain": [
       "['hans.z@gmail.com', 'usr@serveer']"
      ]
     },
     "execution_count": 58,
     "metadata": {},
     "output_type": "execute_result"
    }
   ],
   "source": [
    "# Quando houver mais de um email na mesma linha de analise\n",
    "re.findall('[\\w.]+@[\\w.]+', 'blah hans.z@gmail.com usr@serveer 1 2 3')"
   ]
  },
  {
   "cell_type": "markdown",
   "metadata": {},
   "source": [
    "Retorne os parentesis para ver o resultado? -- Retorna uma lista de tuplas user-server"
   ]
  },
  {
   "cell_type": "code",
   "execution_count": 59,
   "metadata": {
    "collapsed": false
   },
   "outputs": [
    {
     "data": {
      "text/plain": [
       "[('hans.z', 'gmail.com'), ('usr', 'serveer')]"
      ]
     },
     "execution_count": 59,
     "metadata": {},
     "output_type": "execute_result"
    }
   ],
   "source": [
    "# Retornando uma lista de tuplas user-server\n",
    "re.findall('([\\w.]+)@([\\w.]+)', 'blah hans.z@gmail.com usr@serveer 1 2 3')"
   ]
  },
  {
   "cell_type": "markdown",
   "metadata": {},
   "source": [
    "----\n",
    "* Fazer exercicios com arquivo de popularidade de nomes do SSA americano http://www.ssa.gov/OACT/babynames/"
   ]
  },
  {
   "cell_type": "code",
   "execution_count": null,
   "metadata": {
    "collapsed": true
   },
   "outputs": [],
   "source": []
  }
 ],
 "metadata": {
  "kernelspec": {
   "display_name": "Python 2",
   "language": "python",
   "name": "python2"
  },
  "language_info": {
   "codemirror_mode": {
    "name": "ipython",
    "version": 2
   },
   "file_extension": ".py",
   "mimetype": "text/x-python",
   "name": "python",
   "nbconvert_exporter": "python",
   "pygments_lexer": "ipython2",
   "version": "2.7.8"
  }
 },
 "nbformat": 4,
 "nbformat_minor": 0
}
