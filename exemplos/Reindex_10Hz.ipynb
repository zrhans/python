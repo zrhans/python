{
 "cells": [
  {
   "cell_type": "markdown",
   "metadata": {
    "collapsed": false
   },
   "source": [
    "\n",
    "#Reindex_10Hz\n",
    "---\n",
    "Based on *http://nbviewer.ipython.org/gist/anabranch/641c3681a5f9aec1afbc*"
   ]
  },
  {
   "cell_type": "code",
   "execution_count": 28,
   "metadata": {
    "collapsed": false
   },
   "outputs": [
    {
     "data": {
      "text/plain": [
       "[Timestamp('2011-01-01 00:00:00', offset='100L'),\n",
       " Timestamp('2011-01-01 00:00:00.100000', offset='100L'),\n",
       " Timestamp('2011-01-01 00:00:00.200000', offset='100L'),\n",
       " Timestamp('2011-01-01 00:00:00.300000', offset='100L'),\n",
       " Timestamp('2011-01-01 00:00:00.400000', offset='100L'),\n",
       " Timestamp('2011-01-01 00:00:00.500000', offset='100L'),\n",
       " Timestamp('2011-01-01 00:00:00.600000', offset='100L'),\n",
       " Timestamp('2011-01-01 00:00:00.700000', offset='100L'),\n",
       " Timestamp('2011-01-01 00:00:00.800000', offset='100L'),\n",
       " Timestamp('2011-01-01 00:00:00.900000', offset='100L'),\n",
       " Timestamp('2011-01-01 00:00:01', offset='100L'),\n",
       " Timestamp('2011-01-01 00:00:01.100000', offset='100L'),\n",
       " Timestamp('2011-01-01 00:00:01.200000', offset='100L'),\n",
       " Timestamp('2011-01-01 00:00:01.300000', offset='100L'),\n",
       " Timestamp('2011-01-01 00:00:01.400000', offset='100L'),\n",
       " Timestamp('2011-01-01 00:00:01.500000', offset='100L'),\n",
       " Timestamp('2011-01-01 00:00:01.600000', offset='100L'),\n",
       " Timestamp('2011-01-01 00:00:01.700000', offset='100L'),\n",
       " Timestamp('2011-01-01 00:00:01.800000', offset='100L'),\n",
       " Timestamp('2011-01-01 00:00:01.900000', offset='100L')]"
      ]
     },
     "execution_count": 28,
     "metadata": {},
     "output_type": "execute_result"
    }
   ],
   "source": [
    "# The problem: We have a dataset samplet at 10Hz.\n",
    "# 10 Hz means 10 samples at every Sec. \n",
    "# Below Sec the counts are im mSec, so, to get 10 sets we need divide this time interval 1000 mSec by 10 \n",
    "# resulting in a time interval of 100mS per sample. This will be our delta time for new index\n",
    "import pandas as pd\n",
    "ind = pd.date_range('1/1/2011', periods=20, freq='100mS')\n",
    "ind.tolist()\n"
   ]
  }
 ],
 "metadata": {
  "kernelspec": {
   "display_name": "Python 3",
   "language": "python",
   "name": "python3"
  },
  "language_info": {
   "codemirror_mode": {
    "name": "ipython",
    "version": 3
   },
   "file_extension": ".py",
   "mimetype": "text/x-python",
   "name": "python",
   "nbconvert_exporter": "python",
   "pygments_lexer": "ipython3",
   "version": "3.4.2"
  }
 },
 "nbformat": 4,
 "nbformat_minor": 0
}
