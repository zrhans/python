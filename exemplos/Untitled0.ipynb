{
 "metadata": {
  "name": "",
  "signature": "sha256:de1ba8e6de6765a654b6b8ff74409740365b0c96b30115fec17fe86df52ae69a"
 },
 "nbformat": 3,
 "nbformat_minor": 0,
 "worksheets": []
}