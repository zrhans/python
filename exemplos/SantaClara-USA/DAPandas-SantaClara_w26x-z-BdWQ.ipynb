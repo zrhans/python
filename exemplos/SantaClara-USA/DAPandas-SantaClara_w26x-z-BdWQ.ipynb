{
 "metadata": {
  "name": "",
  "signature": "sha256:1f87232d35ba67deba4ae0ed7e500680aff4d66285f2ec109bfcd6a340174e71"
 },
 "nbformat": 3,
 "nbformat_minor": 0,
 "worksheets": [
  {
   "cells": [
    {
     "cell_type": "markdown",
     "metadata": {},
     "source": [
      "#Analise de Dados em Python com PANDAS\n",
      "----\n",
      "**Original:** *McKinney - NextDayVideo Conference, March 9 2012*"
     ]
    },
    {
     "cell_type": "code",
     "collapsed": false,
     "input": [
      "import pandas\n",
      "#from pandas import *\n",
      "from pandas import Series, DataFrame\n",
      "\n",
      "import numpy as np\n",
      "#import import datetime\n",
      "\n",
      "\"\"\"\n",
      " chamei o script com --pylab=inline entao nao preciso a linha abaix\n",
      " caso contrario descomente-a\n",
      "\"\"\"\n",
      "#mport matplotlib as plt \n",
      "\n",
      "\n",
      "def side_by_side(*objs, **kwds):\n",
      "    from pandas.core.common import adjoin\n",
      "    space = kwds.get('space', 4)\n",
      "    reprs = [repr(obj).split('\\n') for obj in objs]\n",
      "    print(adjoin(space, *reprs))\n",
      "    \n",
      "plt.rc('figure', figsize=(10, 6))\n",
      "#Obsoleto: pandas.set_printoptions(notebook_repr_html=False)\n",
      "#Atual:  pandas.set_option('display.notebook_repr_html', True)\n",
      "pandas.set_option('display.notebook_repr_html', False)"
     ],
     "language": "python",
     "metadata": {},
     "outputs": [],
     "prompt_number": 114
    },
    {
     "cell_type": "code",
     "collapsed": false,
     "input": [
      "#Criando uma lista simples com strings\n",
      "labels = ['a', 'b','c','d','e']\n",
      "# randn(5) array de 5 dados aleatorios\n",
      "#Segundo argumento diz que as labels serao os indices do array\n",
      "s = Series(randn(5), index=labels)\n",
      "s"
     ],
     "language": "python",
     "metadata": {},
     "outputs": [
      {
       "metadata": {},
       "output_type": "pyout",
       "prompt_number": 13,
       "text": [
        "a    0.288637\n",
        "b   -0.454567\n",
        "c    0.826371\n",
        "d    0.807914\n",
        "e   -1.271622\n",
        "dtype: float64"
       ]
      }
     ],
     "prompt_number": 13
    },
    {
     "cell_type": "markdown",
     "metadata": {},
     "source": [
      "Os Objetos Series em um comportamento semelhande aos dicionarios, sendo formadas por um pars indice-valor"
     ]
    },
    {
     "cell_type": "code",
     "collapsed": false,
     "input": [
      "'b' in s "
     ],
     "language": "python",
     "metadata": {},
     "outputs": [
      {
       "metadata": {},
       "output_type": "pyout",
       "prompt_number": 23,
       "text": [
        "True"
       ]
      }
     ],
     "prompt_number": 23
    },
    {
     "cell_type": "code",
     "collapsed": false,
     "input": [
      "s['c']"
     ],
     "language": "python",
     "metadata": {},
     "outputs": [
      {
       "metadata": {},
       "output_type": "pyout",
       "prompt_number": 26,
       "text": [
        "0.82637145593922612"
       ]
      }
     ],
     "prompt_number": 26
    },
    {
     "cell_type": "markdown",
     "metadata": {},
     "source": [
      "### Conversoes"
     ]
    },
    {
     "cell_type": "code",
     "collapsed": false,
     "input": [
      "mapping = s.to_dict()\n",
      "mapping"
     ],
     "language": "python",
     "metadata": {},
     "outputs": [
      {
       "metadata": {},
       "output_type": "pyout",
       "prompt_number": 27,
       "text": [
        "{'e': -1.2716217775174052,\n",
        " 'd': 0.80791350297457454,\n",
        " 'a': 0.28863694845010518,\n",
        " 'b': -0.45456719368292797,\n",
        " 'c': 0.82637145593922612}"
       ]
      }
     ],
     "prompt_number": 27
    },
    {
     "cell_type": "code",
     "collapsed": false,
     "input": [
      "# Eh possivel passar um dicionario como argumento de um Objeto Series\n",
      "s = Series(mapping)\n",
      "s"
     ],
     "language": "python",
     "metadata": {},
     "outputs": [
      {
       "metadata": {},
       "output_type": "pyout",
       "prompt_number": 31,
       "text": [
        "a    0.288637\n",
        "b   -0.454567\n",
        "c    0.826371\n",
        "d    0.807914\n",
        "e   -1.271622\n",
        "dtype: float64"
       ]
      }
     ],
     "prompt_number": 31
    },
    {
     "cell_type": "code",
     "collapsed": false,
     "input": [
      "# Eh possivel alterar a ordem e  os indices\n",
      "s = Series(mapping, index=['b','e','a','d','f'])\n",
      "s\n"
     ],
     "language": "python",
     "metadata": {},
     "outputs": [
      {
       "metadata": {},
       "output_type": "pyout",
       "prompt_number": 33,
       "text": [
        "b   -0.454567\n",
        "e   -1.271622\n",
        "a    0.288637\n",
        "d    0.807914\n",
        "f         NaN\n",
        "dtype: float64"
       ]
      }
     ],
     "prompt_number": 33
    },
    {
     "cell_type": "markdown",
     "metadata": {},
     "source": [
      "*Observamos que o valor para o novo indice* `'f'`  *eh NaN, pois nao possuia valor no mapping original. Este eh o comportamento padrao para dados ausentes (**missing data**).*\n",
      "\n",
      "No modulo `pandas` existem duas funcoes que identificam esses valores, resultando em um valor logico: `isnull` e `notnull`."
     ]
    },
    {
     "cell_type": "code",
     "collapsed": false,
     "input": [
      "isnull(s)"
     ],
     "language": "python",
     "metadata": {},
     "outputs": [
      {
       "metadata": {},
       "output_type": "pyout",
       "prompt_number": 34,
       "text": [
        "b    False\n",
        "e    False\n",
        "a    False\n",
        "d    False\n",
        "f     True\n",
        "dtype: bool"
       ]
      }
     ],
     "prompt_number": 34
    },
    {
     "cell_type": "code",
     "collapsed": false,
     "input": [
      "# Encontrando ela\n",
      "s[isnull(s)]"
     ],
     "language": "python",
     "metadata": {},
     "outputs": [
      {
       "metadata": {},
       "output_type": "pyout",
       "prompt_number": 36,
       "text": [
        "f   NaN\n",
        "dtype: float64"
       ]
      }
     ],
     "prompt_number": 36
    },
    {
     "cell_type": "code",
     "collapsed": false,
     "input": [
      "notnull(s)"
     ],
     "language": "python",
     "metadata": {},
     "outputs": [
      {
       "metadata": {},
       "output_type": "pyout",
       "prompt_number": 37,
       "text": [
        "b     True\n",
        "e     True\n",
        "a     True\n",
        "d     True\n",
        "f    False\n",
        "dtype: bool"
       ]
      }
     ],
     "prompt_number": 37
    },
    {
     "cell_type": "code",
     "collapsed": false,
     "input": [
      "# Removendo dadso ausentes (NaN) - Lembre da imutabilidade\n",
      "s.dropna()"
     ],
     "language": "python",
     "metadata": {},
     "outputs": [
      {
       "metadata": {},
       "output_type": "pyout",
       "prompt_number": 43,
       "text": [
        "b   -0.454567\n",
        "e   -1.271622\n",
        "a    0.288637\n",
        "d    0.807914\n",
        "dtype: float64"
       ]
      }
     ],
     "prompt_number": 43
    },
    {
     "cell_type": "code",
     "collapsed": false,
     "input": [
      "s.index"
     ],
     "language": "python",
     "metadata": {},
     "outputs": [
      {
       "metadata": {},
       "output_type": "pyout",
       "prompt_number": 42,
       "text": [
        "Index(['b', 'e', 'a', 'd', 'f'], dtype='object')"
       ]
      }
     ],
     "prompt_number": 42
    },
    {
     "cell_type": "markdown",
     "metadata": {},
     "source": [
      "# DataFrame: Colecao 2D de Series\n",
      "----"
     ]
    },
    {
     "cell_type": "code",
     "collapsed": false,
     "input": [
      "df = DataFrame({\n",
      "    'a': np.random.randn(6),\n",
      "    'b': ['foo', 'bar'] * 3,\n",
      "    'c': np.random.randn(6)\n",
      "})"
     ],
     "language": "python",
     "metadata": {},
     "outputs": [],
     "prompt_number": 45
    },
    {
     "cell_type": "code",
     "collapsed": false,
     "input": [
      "df.index"
     ],
     "language": "python",
     "metadata": {},
     "outputs": [
      {
       "metadata": {},
       "output_type": "pyout",
       "prompt_number": 50,
       "text": [
        "Int64Index([0, 1, 2, 3, 4, 5], dtype='int64')"
       ]
      }
     ],
     "prompt_number": 50
    },
    {
     "cell_type": "code",
     "collapsed": false,
     "input": [
      "df.columns"
     ],
     "language": "python",
     "metadata": {},
     "outputs": [
      {
       "metadata": {},
       "output_type": "pyout",
       "prompt_number": 51,
       "text": [
        "Index(['a', 'b', 'c'], dtype='object')"
       ]
      }
     ],
     "prompt_number": 51
    },
    {
     "cell_type": "code",
     "collapsed": false,
     "input": [
      "df"
     ],
     "language": "python",
     "metadata": {},
     "outputs": [
      {
       "metadata": {},
       "output_type": "pyout",
       "prompt_number": 60,
       "text": [
        "          a    b         c\n",
        "0 -0.380374  foo  0.561932\n",
        "1  1.215852  bar  0.362633\n",
        "2  0.219716  foo -0.142641\n",
        "3 -0.757877  bar -0.698091\n",
        "4  0.537636  foo -1.377559\n",
        "5 -0.428384  bar  1.858543"
       ]
      }
     ],
     "prompt_number": 60
    },
    {
     "cell_type": "code",
     "collapsed": false,
     "input": [
      "# Criando e atribuindo valores a uma nova coluna\n",
      "df['d'] = 5"
     ],
     "language": "python",
     "metadata": {},
     "outputs": [],
     "prompt_number": 100
    },
    {
     "cell_type": "code",
     "collapsed": false,
     "input": [
      "df"
     ],
     "language": "python",
     "metadata": {},
     "outputs": [
      {
       "metadata": {},
       "output_type": "pyout",
       "prompt_number": 62,
       "text": [
        "          a    b         c  d\n",
        "0 -0.380374  foo  0.561932  5\n",
        "1  1.215852  bar  0.362633  5\n",
        "2  0.219716  foo -0.142641  5\n",
        "3 -0.757877  bar -0.698091  5\n",
        "4  0.537636  foo -1.377559  5\n",
        "5 -0.428384  bar  1.858543  5"
       ]
      }
     ],
     "prompt_number": 62
    },
    {
     "cell_type": "code",
     "collapsed": false,
     "input": [
      "# Slicing ex: as ultimas duas linhas\n",
      "df[-2:]"
     ],
     "language": "python",
     "metadata": {},
     "outputs": [
      {
       "metadata": {},
       "output_type": "pyout",
       "prompt_number": 69,
       "text": [
        "          a    b         c  d\n",
        "4  0.537636  foo -1.377559  5\n",
        "5 -0.428384  bar  1.858543  5"
       ]
      }
     ],
     "prompt_number": 69
    },
    {
     "cell_type": "code",
     "collapsed": false,
     "input": [
      "# O metodo xs(n) retorna uma serie da linha n sendo os nomes\n",
      "# das colunas seus indices\n",
      "df.xs(0)"
     ],
     "language": "python",
     "metadata": {},
     "outputs": [
      {
       "metadata": {},
       "output_type": "pyout",
       "prompt_number": 73,
       "text": [
        "a   -0.3803736\n",
        "b          foo\n",
        "c    0.5619322\n",
        "d            5\n",
        "Name: 0, dtype: object"
       ]
      }
     ],
     "prompt_number": 73
    },
    {
     "cell_type": "code",
     "collapsed": false,
     "input": [
      "timeit df.ix[0, 'b']"
     ],
     "language": "python",
     "metadata": {},
     "outputs": [
      {
       "output_type": "stream",
       "stream": "stdout",
       "text": [
        "100000 loops, best of 3: 5.37 \u00b5s per loop\n"
       ]
      }
     ],
     "prompt_number": 85
    },
    {
     "cell_type": "code",
     "collapsed": false,
     "input": [
      "timeit df.get_value(2, 'b')"
     ],
     "language": "python",
     "metadata": {},
     "outputs": [
      {
       "output_type": "stream",
       "stream": "stdout",
       "text": [
        "100000 loops, best of 3: 2.99 \u00b5s per loop\n"
       ]
      }
     ],
     "prompt_number": 79
    },
    {
     "cell_type": "code",
     "collapsed": false,
     "input": [
      "# Fatie a segunda linha ate a linha 4, nas colunas 'b' e 'c' \n",
      "df.ix[2:4, ['b','c'] ]"
     ],
     "language": "python",
     "metadata": {},
     "outputs": [
      {
       "metadata": {},
       "output_type": "pyout",
       "prompt_number": 87,
       "text": [
        "     b         c\n",
        "2  foo -0.142641\n",
        "3  bar -0.698091\n",
        "4  foo -1.377559"
       ]
      }
     ],
     "prompt_number": 87
    },
    {
     "cell_type": "code",
     "collapsed": false,
     "input": [
      "# Retorne as linhas em que apenas os valores da coluna c \n",
      "# sejam maiores do que zero\n",
      "df[df.c > 0]"
     ],
     "language": "python",
     "metadata": {},
     "outputs": [
      {
       "metadata": {},
       "output_type": "pyout",
       "prompt_number": 99,
       "text": [
        "          a    b         c  d\n",
        "0 -0.380374  foo  0.561932  5\n",
        "1  1.215852  bar  0.362633  5\n",
        "5 -0.428384  bar  1.858543  5"
       ]
      }
     ],
     "prompt_number": 99
    },
    {
     "cell_type": "code",
     "collapsed": false,
     "input": [
      "df['c'] > 0"
     ],
     "language": "python",
     "metadata": {},
     "outputs": [
      {
       "metadata": {},
       "output_type": "pyout",
       "prompt_number": 97,
       "text": [
        "0     True\n",
        "1     True\n",
        "2    False\n",
        "3    False\n",
        "4    False\n",
        "5     True\n",
        "Name: c, dtype: bool"
       ]
      }
     ],
     "prompt_number": 97
    },
    {
     "cell_type": "markdown",
     "metadata": {},
     "source": [
      "### Pandas pode gerar indices predefinidos, por exemplo datas"
     ]
    },
    {
     "cell_type": "code",
     "collapsed": false,
     "input": [
      "# Pandas pode gerar indices predefinidos, por exemplo datas"
     ],
     "language": "python",
     "metadata": {},
     "outputs": [],
     "prompt_number": 101
    },
    {
     "cell_type": "code",
     "collapsed": false,
     "input": [
      "df = DataFrame({\n",
      "    'a': np.random.randn(6),\n",
      "    'b': ['foo', 'bar'] * 3,\n",
      "    'c': np.random.randn(6)}, \n",
      "    index=date_range('1/1/2000', periods=6)\n",
      "    )"
     ],
     "language": "python",
     "metadata": {},
     "outputs": [],
     "prompt_number": 115
    },
    {
     "cell_type": "code",
     "collapsed": false,
     "input": [
      "df"
     ],
     "language": "python",
     "metadata": {},
     "outputs": [
      {
       "metadata": {},
       "output_type": "pyout",
       "prompt_number": 118,
       "text": [
        "                   a    b         c\n",
        "2000-01-01 -1.002696  foo -0.621513\n",
        "2000-01-02  1.337229  bar -0.378102\n",
        "2000-01-03  0.245945  foo  0.298781\n",
        "2000-01-04  0.033842  bar -0.907996\n",
        "2000-01-05  0.185411  foo  1.136669\n",
        "2000-01-06 -0.904722  bar  0.728981"
       ]
      }
     ],
     "prompt_number": 118
    },
    {
     "cell_type": "code",
     "collapsed": false,
     "input": [
      "df = DataFrame({\n",
      "    'a': np.random.randn(6),\n",
      "    'b': ['foo', 'bar'] * 3,\n",
      "    'c': np.random.randn(6)\n",
      "}, columns=['a','b','c','d'])"
     ],
     "language": "python",
     "metadata": {},
     "outputs": [],
     "prompt_number": 121
    },
    {
     "cell_type": "code",
     "collapsed": false,
     "input": [
      "df\n",
      "#isnull(df)"
     ],
     "language": "python",
     "metadata": {},
     "outputs": [
      {
       "metadata": {},
       "output_type": "pyout",
       "prompt_number": 124,
       "text": [
        "          a    b         c    d\n",
        "0  1.263390  foo  1.350885  NaN\n",
        "1  0.664581  bar -0.463260  NaN\n",
        "2  0.413526  foo -1.756543  NaN\n",
        "3  1.371956  bar  0.609647  NaN\n",
        "4  1.385532  foo  0.926239  NaN\n",
        "5 -0.233507  bar  0.967252  NaN"
       ]
      }
     ],
     "prompt_number": 124
    },
    {
     "cell_type": "markdown",
     "metadata": {},
     "source": [
      "# Criando a partir de dicionarios aninhados\n",
      "----"
     ]
    },
    {
     "cell_type": "code",
     "collapsed": false,
     "input": [
      "data = {}\n",
      "for col in ['foo','bar','baz']:\n",
      "    for row in ['a', 'b', 'c', 'd']:\n",
      "        data.setdefault(col, {})[row] = rand()\n",
      "        \n",
      "data"
     ],
     "language": "python",
     "metadata": {},
     "outputs": [
      {
       "metadata": {},
       "output_type": "pyout",
       "prompt_number": 152,
       "text": [
        "{'bar': {'d': 0.0524687957944856,\n",
        "  'a': 0.9562966579289016,\n",
        "  'b': 0.5913622415423637,\n",
        "  'c': 0.8251898086165323},\n",
        " 'baz': {'d': 0.7021834919304516,\n",
        "  'a': 0.9910727538132068,\n",
        "  'b': 0.3274066961511257,\n",
        "  'c': 0.8436968913186512},\n",
        " 'foo': {'d': 0.2803303160608259,\n",
        "  'a': 0.05018655537100347,\n",
        "  'b': 0.5102109808663076,\n",
        "  'c': 0.2819725832615575}}"
       ]
      }
     ],
     "prompt_number": 152
    },
    {
     "cell_type": "code",
     "collapsed": false,
     "input": [
      "# Deletando um valor\n",
      "del data['foo']['c']"
     ],
     "language": "python",
     "metadata": {},
     "outputs": [],
     "prompt_number": 153
    },
    {
     "cell_type": "code",
     "collapsed": false,
     "input": [
      "DataFrame(data)"
     ],
     "language": "python",
     "metadata": {},
     "outputs": [
      {
       "metadata": {},
       "output_type": "pyout",
       "prompt_number": 154,
       "text": [
        "        bar       baz       foo\n",
        "a  0.956297  0.991073  0.050187\n",
        "b  0.591362  0.327407  0.510211\n",
        "c  0.825190  0.843697       NaN\n",
        "d  0.052469  0.702183  0.280330"
       ]
      }
     ],
     "prompt_number": 154
    },
    {
     "cell_type": "markdown",
     "metadata": {},
     "source": [
      "*Observe o valor faltante onde usamos o comando* `del data['foo']['c']` sendo substituido por `NaN`."
     ]
    },
    {
     "cell_type": "markdown",
     "metadata": {},
     "source": [
      "# Alinhamento de dados\n",
      "----"
     ]
    },
    {
     "cell_type": "code",
     "collapsed": false,
     "input": [
      "# Lendo dados de um arquivo .csv\n",
      "close_px = read_csv('dados/stock_data.csv', index_col=0, parse_dates=True)\n",
      "# Comandos de terminal podem ser usados iniciando a linha com !\n",
      "\n",
      "#!head dados/stock_data.csv\n",
      "# Via funcao do pandas close_px.head()"
     ],
     "language": "python",
     "metadata": {},
     "outputs": [],
     "prompt_number": 162
    },
    {
     "cell_type": "code",
     "collapsed": false,
     "input": [
      "close_px"
     ],
     "language": "python",
     "metadata": {},
     "outputs": [
      {
       "metadata": {},
       "output_type": "pyout",
       "prompt_number": 167,
       "text": [
        "               AA    AAPL     GE     IBM    JNJ   MSFT    PEP      SPX    XOM\n",
        "2007-10-29  37.41  185.09  34.46  106.78  57.13  31.78  65.67  1540.98  85.51\n",
        "2007-10-30  36.43  187.00  34.39  106.15  56.99  32.70  65.80  1531.02  83.25\n",
        "2007-10-31  36.79  189.95  34.97  108.01  57.30  33.84  65.69  1549.38  84.03\n",
        "2007-11-01  35.22  187.44  34.27  105.72  56.85  34.07  64.51  1508.44  80.84\n",
        "2007-11-02  35.83  187.87  34.27  106.59  56.95  34.07  65.03  1509.65  80.32\n",
        "2007-11-05  35.22  186.18  34.15  105.48  56.70  33.77  64.84  1502.17  80.07\n",
        "2007-11-06  35.84  191.79  34.14  105.27  56.80  33.47  65.49  1520.27  82.56\n",
        "2007-11-07  34.76  186.30  33.20  103.69  56.19  32.65  64.46  1475.62  79.96\n",
        "2007-11-08  35.00  175.47  33.15   99.05  56.79  31.94  65.50  1474.77  82.00\n",
        "2007-11-09  34.47  165.37  32.61   93.58  57.29  31.01  65.48  1453.70  79.64\n",
        "2007-11-12  33.33  153.76  32.50   94.70  58.30  30.69  64.67  1439.18  77.52\n",
        "2007-11-13  34.04  169.96  33.31   98.27  59.18  31.79  65.35  1481.05  79.67\n",
        "2007-11-14  34.25  166.11  33.14   96.56  58.81  31.30  65.99  1470.58  79.15\n",
        "2007-11-15  33.76  164.30  32.55   96.71  58.80  31.14  65.57  1451.15  77.48\n",
        "2007-11-16  33.74  166.39  32.84   97.82  59.56  31.44  66.08  1458.74  78.04\n",
        "2007-11-19  32.59  163.95  32.42   95.42  59.42  31.32  66.90  1433.27  77.13\n",
        "2007-11-20  32.88  168.85  32.32   96.54  59.47  31.90  66.69  1439.70  80.53\n",
        "2007-11-21  32.68  168.46  31.58   95.42  59.03  31.57  66.87  1416.77  79.82\n",
        "2007-11-23  32.66  171.54  32.01   97.13  59.16  31.46  67.29  1440.70  80.96\n",
        "2007-11-26  32.41  172.54  31.21   95.19  59.60  30.41  66.56  1407.22  78.57\n",
        "2007-11-27  32.56  174.81  31.82   96.92  59.92  30.49  67.65  1428.23  79.21\n",
        "2007-11-28  33.65  180.22  32.68  100.23  60.46  31.08  68.76  1469.02  80.62\n",
        "2007-11-29  33.97  184.29  32.40  100.35  60.51  30.98  68.20  1469.72  81.24\n",
        "2007-11-30  33.80  182.22  32.53   98.18  59.93  30.99  68.78  1481.14  81.76\n",
        "2007-12-03  32.98  178.86  31.38   98.79  59.90  30.36  68.24  1472.42  81.48\n",
        "2007-12-04  32.76  179.81  30.80   99.54  60.10  30.23  68.30  1462.79  80.81\n",
        "2007-12-05  33.09  185.50  31.19  100.97  60.34  31.50  68.30  1485.01  82.46\n",
        "2007-12-06  33.32  189.95  31.66  102.40  60.42  31.87  68.98  1507.34  83.85\n",
        "2007-12-07  34.30  194.30  31.63  101.62  59.87  31.85  68.95  1504.66  83.91\n",
        "2007-12-10  35.17  194.21  31.78  102.11  59.97  32.06  69.20  1515.96  84.39\n",
        "...           ...     ...    ...     ...    ...    ...    ...      ...    ...\n",
        "2011-09-02  12.04  374.05  15.61  166.98  64.07  25.80  63.30  1173.97  72.14\n",
        "2011-09-06  11.77  379.74  15.11  165.11  64.64  25.51  62.45  1165.24  71.15\n",
        "2011-09-07  12.25  383.93  15.65  167.31  65.43  26.00  61.62  1198.62  73.65\n",
        "2011-09-08  12.03  384.14  15.44  165.25  64.95  26.22  61.34  1185.90  72.82\n",
        "2011-09-09  11.58  377.48  14.95  161.37  63.64  25.74  59.99  1154.23  71.01\n",
        "2011-09-12  11.55  379.94  14.87  162.42  63.59  25.89  60.14  1162.27  71.84\n",
        "2011-09-13  11.63  384.62  15.26  163.43  63.61  26.04  60.54  1172.87  71.65\n",
        "2011-09-14  11.73  389.30  15.64  167.24  63.73  26.50  61.58  1188.68  72.64\n",
        "2011-09-15  11.98  392.96  16.08  170.09  64.40  26.99  63.22  1209.11  74.01\n",
        "2011-09-16  11.97  400.50  16.33  172.99  64.59  27.12  62.05  1216.01  74.55\n",
        "2011-09-19  11.58  411.63  16.18  173.13  64.14  27.21  60.56  1204.09  73.70\n",
        "2011-09-20  11.25  413.45  16.04  174.72  64.22  26.98  60.39  1202.09  74.01\n",
        "2011-09-21  10.84  412.14  15.38  173.02  63.13  25.99  60.79  1166.76  71.97\n",
        "2011-09-22  10.11  401.82  15.04  168.62  61.92  25.06  60.92  1129.56  69.24\n",
        "2011-09-23  10.07  404.30  15.21  169.34  61.59  25.06  60.34  1136.43  69.31\n",
        "2011-09-26  10.45  403.17  15.57  174.51  62.69  25.44  61.89  1162.95  71.72\n",
        "2011-09-27  10.48  399.26  15.76  177.71  63.82  25.67  62.43  1175.38  72.91\n",
        "2011-09-28   9.97  397.01  15.45  177.55  63.25  25.58  61.97  1151.06  72.07\n",
        "2011-09-29  10.06  390.57  15.86  179.17  63.90  25.45  62.58  1160.40  73.88\n",
        "2011-09-30   9.57  381.32  15.22  174.87  63.69  24.89  61.90  1131.42  72.63\n",
        "2011-10-03   8.90  374.60  14.69  173.29  62.08  24.53  60.29  1099.23  71.15\n",
        "2011-10-04   9.12  372.50  14.86  174.74  62.17  25.34  60.45  1123.95  72.83\n",
        "2011-10-05   9.37  378.25  15.27  176.85  62.35  25.89  60.29  1144.03  73.95\n",
        "2011-10-06   9.88  377.37  15.53  181.69  62.81  26.34  60.57  1164.97  73.89\n",
        "2011-10-07   9.71  369.80  15.50  182.39  63.13  26.25  61.02  1155.46  73.56\n",
        "2011-10-10  10.09  388.81  16.14  186.62  64.43  26.94  61.87  1194.89  76.28\n",
        "2011-10-11  10.30  400.29  16.14  185.00  63.96  27.00  60.95  1195.54  76.27\n",
        "2011-10-12  10.05  402.19  16.40  186.12  64.33  26.96  62.70  1207.25  77.16\n",
        "2011-10-13  10.10  408.43  16.22  186.82  64.23  27.18  62.36  1203.66  76.37\n",
        "2011-10-14  10.26  422.00  16.60  190.53  64.72  27.27  62.24  1224.58  78.11\n",
        "\n",
        "[1000 rows x 9 columns]"
       ]
      }
     ],
     "prompt_number": 167
    },
    {
     "cell_type": "code",
     "collapsed": false,
     "input": [
      "# Criando series com partes dos papeis da Apple\n",
      "s1 = close_px['AAPL'][-20:]\n",
      "s2 = close_px['AAPL'][-25:-10]\n",
      "\n",
      "# Usando a funcao definida no inicio desse material para \n",
      "# apresenta-las lado a lado\n",
      "side_by_side(s1, s2)"
     ],
     "language": "python",
     "metadata": {},
     "outputs": [
      {
       "output_type": "stream",
       "stream": "stdout",
       "text": [
        "2011-09-19    411.63          2011-09-12    379.94      \n",
        "2011-09-20    413.45          2011-09-13    384.62      \n",
        "2011-09-21    412.14          2011-09-14    389.30      \n",
        "2011-09-22    401.82          2011-09-15    392.96      \n",
        "2011-09-23    404.30          2011-09-16    400.50      \n",
        "2011-09-26    403.17          2011-09-19    411.63      \n",
        "2011-09-27    399.26          2011-09-20    413.45      \n",
        "2011-09-28    397.01          2011-09-21    412.14      \n",
        "2011-09-29    390.57          2011-09-22    401.82      \n",
        "2011-09-30    381.32          2011-09-23    404.30      \n",
        "2011-10-03    374.60          2011-09-26    403.17      \n",
        "2011-10-04    372.50          2011-09-27    399.26      \n",
        "2011-10-05    378.25          2011-09-28    397.01      \n",
        "2011-10-06    377.37          2011-09-29    390.57      \n",
        "2011-10-07    369.80          2011-09-30    381.32      \n",
        "2011-10-10    388.81          Name: AAPL, dtype: float64\n",
        "2011-10-11    400.29                                    \n",
        "2011-10-12    402.19                                    \n",
        "2011-10-13    408.43                                    \n",
        "2011-10-14    422.00                                    \n",
        "Name: AAPL, dtype: float64                              \n"
       ]
      }
     ],
     "prompt_number": 173
    },
    {
     "cell_type": "code",
     "collapsed": false,
     "input": [
      "s1 + s2"
     ],
     "language": "python",
     "metadata": {},
     "outputs": [
      {
       "metadata": {},
       "output_type": "pyout",
       "prompt_number": 186,
       "text": [
        "2011-09-12       NaN\n",
        "2011-09-13       NaN\n",
        "2011-09-14       NaN\n",
        "2011-09-15       NaN\n",
        "2011-09-16       NaN\n",
        "2011-09-19    823.26\n",
        "2011-09-20    826.90\n",
        "2011-09-21    824.28\n",
        "2011-09-22    803.64\n",
        "2011-09-23    808.60\n",
        "2011-09-26    806.34\n",
        "2011-09-27    798.52\n",
        "2011-09-28    794.02\n",
        "2011-09-29    781.14\n",
        "2011-09-30    762.64\n",
        "2011-10-03       NaN\n",
        "2011-10-04       NaN\n",
        "2011-10-05       NaN\n",
        "2011-10-06       NaN\n",
        "2011-10-07       NaN\n",
        "2011-10-10       NaN\n",
        "2011-10-11       NaN\n",
        "2011-10-12       NaN\n",
        "2011-10-13       NaN\n",
        "2011-10-14       NaN\n",
        "Name: AAPL, dtype: float64"
       ]
      }
     ],
     "prompt_number": 186
    },
    {
     "cell_type": "markdown",
     "metadata": {},
     "source": [
      "Observe que na soma, onde as series nao se sobrepoe os valores sao \n",
      "substituidos por valores ausentes `NaN` \n",
      "- Existe tambem a possibilidade de escolhermos qual valore serah substituido pelo valor ausente ao inves de `NaN`  padrao. O valor ausente, zero por exemplo:\n",
      "`s1.add(s2, fill_value=0)`\n",
      "```\n",
      "2011-09-12    379.94\n",
      "2011-09-13    384.62\n",
      "2011-09-14    389.30\n",
      "2011-09-15    392.96\n",
      "2011-09-16    400.50\n",
      "2011-09-19    823.26\n",
      "2011-09-20    826.90\n",
      "2011-09-21    824.28\n",
      "2011-09-22    803.64\n",
      "2011-09-23    808.60\n",
      "2011-09-26    806.34\n",
      "2011-09-27    798.52\n",
      "2011-09-28    794.02\n",
      "2011-09-29    781.14\n",
      "2011-09-30    762.64\n",
      "2011-10-03    374.60\n",
      "2011-10-04    372.50\n",
      "2011-10-05    378.25\n",
      "2011-10-06    377.37\n",
      "2011-10-07    369.80\n",
      "2011-10-10    388.81\n",
      "2011-10-11    400.29\n",
      "2011-10-12    402.19\n",
      "2011-10-13    408.43\n",
      "2011-10-14    422.00\n",
      "Name: AAPL, dtype: float64\n",
      "```"
     ]
    },
    {
     "cell_type": "code",
     "collapsed": false,
     "input": [
      "# Selecinando apenas situacoes em que elas se sobrepoe e possuem valres\n",
      "(s1 + s2).dropna()"
     ],
     "language": "python",
     "metadata": {},
     "outputs": [
      {
       "metadata": {},
       "output_type": "pyout",
       "prompt_number": 177,
       "text": [
        "2011-09-19    823.26\n",
        "2011-09-20    826.90\n",
        "2011-09-21    824.28\n",
        "2011-09-22    803.64\n",
        "2011-09-23    808.60\n",
        "2011-09-26    806.34\n",
        "2011-09-27    798.52\n",
        "2011-09-28    794.02\n",
        "2011-09-29    781.14\n",
        "2011-09-30    762.64\n",
        "Name: AAPL, dtype: float64"
       ]
      }
     ],
     "prompt_number": 177
    },
    {
     "cell_type": "code",
     "collapsed": false,
     "input": [
      "# Fatiar apenasultimas 10 linhas e apenas as primeiras 3 colunas\n",
      "df = close_px.ix[-10:,:3]\n",
      "df"
     ],
     "language": "python",
     "metadata": {},
     "outputs": [
      {
       "metadata": {},
       "output_type": "pyout",
       "prompt_number": 184,
       "text": [
        "               AA    AAPL     GE\n",
        "2011-10-03   8.90  374.60  14.69\n",
        "2011-10-04   9.12  372.50  14.86\n",
        "2011-10-05   9.37  378.25  15.27\n",
        "2011-10-06   9.88  377.37  15.53\n",
        "2011-10-07   9.71  369.80  15.50\n",
        "2011-10-10  10.09  388.81  16.14\n",
        "2011-10-11  10.30  400.29  16.14\n",
        "2011-10-12  10.05  402.19  16.40\n",
        "2011-10-13  10.10  408.43  16.22\n",
        "2011-10-14  10.26  422.00  16.60"
       ]
      }
     ],
     "prompt_number": 184
    },
    {
     "cell_type": "code",
     "collapsed": false,
     "input": [
      "# Mostrando lado a lado s1 e s2, em que a serie s1 foi reindexada pelo\n",
      "# indice da s2\n",
      "side_by_side(s1.ix[s2.index], s2)"
     ],
     "language": "python",
     "metadata": {},
     "outputs": [
      {
       "output_type": "stream",
       "stream": "stdout",
       "text": [
        "2011-09-12       NaN          2011-09-12    379.94      \n",
        "2011-09-13       NaN          2011-09-13    384.62      \n",
        "2011-09-14       NaN          2011-09-14    389.30      \n",
        "2011-09-15       NaN          2011-09-15    392.96      \n",
        "2011-09-16       NaN          2011-09-16    400.50      \n",
        "2011-09-19    411.63          2011-09-19    411.63      \n",
        "2011-09-20    413.45          2011-09-20    413.45      \n",
        "2011-09-21    412.14          2011-09-21    412.14      \n",
        "2011-09-22    401.82          2011-09-22    401.82      \n",
        "2011-09-23    404.30          2011-09-23    404.30      \n",
        "2011-09-26    403.17          2011-09-26    403.17      \n",
        "2011-09-27    399.26          2011-09-27    399.26      \n",
        "2011-09-28    397.01          2011-09-28    397.01      \n",
        "2011-09-29    390.57          2011-09-29    390.57      \n",
        "2011-09-30    381.32          2011-09-30    381.32      \n",
        "Name: AAPL, dtype: float64    Name: AAPL, dtype: float64\n"
       ]
      }
     ],
     "prompt_number": 188
    },
    {
     "cell_type": "markdown",
     "metadata": {},
     "source": [
      "## Metodos de alinhamento"
     ]
    },
    {
     "cell_type": "code",
     "collapsed": false,
     "input": [
      "# Intersection\n",
      "b,c = s1.align(s2, join='inner')\n",
      "side_by_side(b,c)"
     ],
     "language": "python",
     "metadata": {},
     "outputs": [
      {
       "output_type": "stream",
       "stream": "stdout",
       "text": [
        "2011-09-19    411.63          2011-09-19    411.63      \n",
        "2011-09-20    413.45          2011-09-20    413.45      \n",
        "2011-09-21    412.14          2011-09-21    412.14      \n",
        "2011-09-22    401.82          2011-09-22    401.82      \n",
        "2011-09-23    404.30          2011-09-23    404.30      \n",
        "2011-09-26    403.17          2011-09-26    403.17      \n",
        "2011-09-27    399.26          2011-09-27    399.26      \n",
        "2011-09-28    397.01          2011-09-28    397.01      \n",
        "2011-09-29    390.57          2011-09-29    390.57      \n",
        "2011-09-30    381.32          2011-09-30    381.32      \n",
        "Name: AAPL, dtype: float64    Name: AAPL, dtype: float64\n"
       ]
      }
     ],
     "prompt_number": 195
    },
    {
     "cell_type": "code",
     "collapsed": false,
     "input": [
      "#\n",
      "b,c = s1.align(s2, join='outer')\n",
      "side_by_side(b,c)"
     ],
     "language": "python",
     "metadata": {},
     "outputs": [
      {
       "output_type": "stream",
       "stream": "stdout",
       "text": [
        "2011-09-12       NaN          2011-09-12    379.94      \n",
        "2011-09-13       NaN          2011-09-13    384.62      \n",
        "2011-09-14       NaN          2011-09-14    389.30      \n",
        "2011-09-15       NaN          2011-09-15    392.96      \n",
        "2011-09-16       NaN          2011-09-16    400.50      \n",
        "2011-09-19    411.63          2011-09-19    411.63      \n",
        "2011-09-20    413.45          2011-09-20    413.45      \n",
        "2011-09-21    412.14          2011-09-21    412.14      \n",
        "2011-09-22    401.82          2011-09-22    401.82      \n",
        "2011-09-23    404.30          2011-09-23    404.30      \n",
        "2011-09-26    403.17          2011-09-26    403.17      \n",
        "2011-09-27    399.26          2011-09-27    399.26      \n",
        "2011-09-28    397.01          2011-09-28    397.01      \n",
        "2011-09-29    390.57          2011-09-29    390.57      \n",
        "2011-09-30    381.32          2011-09-30    381.32      \n",
        "2011-10-03    374.60          2011-10-03       NaN      \n",
        "2011-10-04    372.50          2011-10-04       NaN      \n",
        "2011-10-05    378.25          2011-10-05       NaN      \n",
        "2011-10-06    377.37          2011-10-06       NaN      \n",
        "2011-10-07    369.80          2011-10-07       NaN      \n",
        "2011-10-10    388.81          2011-10-10       NaN      \n",
        "2011-10-11    400.29          2011-10-11       NaN      \n",
        "2011-10-12    402.19          2011-10-12       NaN      \n",
        "2011-10-13    408.43          2011-10-13       NaN      \n",
        "2011-10-14    422.00          2011-10-14       NaN      \n",
        "Name: AAPL, dtype: float64    Name: AAPL, dtype: float64\n"
       ]
      }
     ],
     "prompt_number": 194
    },
    {
     "cell_type": "code",
     "collapsed": false,
     "input": [
      "#\n",
      "b,c = s1.align(s2, join='right')\n",
      "side_by_side(b,c)"
     ],
     "language": "python",
     "metadata": {},
     "outputs": [
      {
       "output_type": "stream",
       "stream": "stdout",
       "text": [
        "2011-09-12       NaN          2011-09-12    379.94      \n",
        "2011-09-13       NaN          2011-09-13    384.62      \n",
        "2011-09-14       NaN          2011-09-14    389.30      \n",
        "2011-09-15       NaN          2011-09-15    392.96      \n",
        "2011-09-16       NaN          2011-09-16    400.50      \n",
        "2011-09-19    411.63          2011-09-19    411.63      \n",
        "2011-09-20    413.45          2011-09-20    413.45      \n",
        "2011-09-21    412.14          2011-09-21    412.14      \n",
        "2011-09-22    401.82          2011-09-22    401.82      \n",
        "2011-09-23    404.30          2011-09-23    404.30      \n",
        "2011-09-26    403.17          2011-09-26    403.17      \n",
        "2011-09-27    399.26          2011-09-27    399.26      \n",
        "2011-09-28    397.01          2011-09-28    397.01      \n",
        "2011-09-29    390.57          2011-09-29    390.57      \n",
        "2011-09-30    381.32          2011-09-30    381.32      \n",
        "Name: AAPL, dtype: float64    Name: AAPL, dtype: float64\n"
       ]
      }
     ],
     "prompt_number": 196
    },
    {
     "cell_type": "code",
     "collapsed": false,
     "input": [
      "df = close_px.ix[-10:, ['AAPL','IBM','MSFT']]\n",
      "df"
     ],
     "language": "python",
     "metadata": {},
     "outputs": [
      {
       "metadata": {},
       "output_type": "pyout",
       "prompt_number": 201,
       "text": [
        "              AAPL     IBM   MSFT\n",
        "2011-10-03  374.60  173.29  24.53\n",
        "2011-10-04  372.50  174.74  25.34\n",
        "2011-10-05  378.25  176.85  25.89\n",
        "2011-10-06  377.37  181.69  26.34\n",
        "2011-10-07  369.80  182.39  26.25\n",
        "2011-10-10  388.81  186.62  26.94\n",
        "2011-10-11  400.29  185.00  27.00\n",
        "2011-10-12  402.19  186.12  26.96\n",
        "2011-10-13  408.43  186.82  27.18\n",
        "2011-10-14  422.00  190.53  27.27"
       ]
      }
     ],
     "prompt_number": 201
    },
    {
     "cell_type": "markdown",
     "metadata": {},
     "source": [
      "#### Eh possivel aplicar uma serie de funcoes nas linhas e colunas de um DataFrame usando o metodo \n",
      "`df.apply(funcs)` "
     ]
    },
    {
     "cell_type": "code",
     "collapsed": false,
     "input": [
      "# Media sobre linhas axis=1 e sobre colunas axis=0\n",
      "#df.apply(np.mean, axis=1)\n",
      "# df.mean(1, skipna=False) ou True caso omitir valores ausentes\n",
      "df.mean(1)"
     ],
     "language": "python",
     "metadata": {},
     "outputs": [
      {
       "metadata": {},
       "output_type": "pyout",
       "prompt_number": 232,
       "text": [
        "2011-10-03    190.806667\n",
        "2011-10-04    190.860000\n",
        "2011-10-05    193.663333\n",
        "2011-10-06    195.133333\n",
        "2011-10-07    192.813333\n",
        "2011-10-10    200.790000\n",
        "2011-10-11    204.096667\n",
        "2011-10-12    205.090000\n",
        "2011-10-13    207.476667\n",
        "2011-10-14    213.266667\n",
        "dtype: float64"
       ]
      }
     ],
     "prompt_number": 232
    },
    {
     "cell_type": "code",
     "collapsed": false,
     "input": [
      "# Media sobre colunas\n",
      "df.mean()"
     ],
     "language": "python",
     "metadata": {},
     "outputs": [
      {
       "metadata": {},
       "output_type": "pyout",
       "prompt_number": 233,
       "text": [
        "AAPL    389.424\n",
        "IBM     182.405\n",
        "MSFT     26.370\n",
        "dtype: float64"
       ]
      }
     ],
     "prompt_number": 233
    },
    {
     "cell_type": "code",
     "collapsed": false,
     "input": [
      "\"\"\"\n",
      " Criando uma funcao que encontra os indices dos valores maximos das \n",
      "series em um dataframe\n",
      "\"\"\"\n",
      "def peak_date(series):\n",
      "    return series.idxmax()\n",
      "\n",
      "close_px.apply(peak_date)"
     ],
     "language": "python",
     "metadata": {},
     "outputs": [
      {
       "metadata": {},
       "output_type": "pyout",
       "prompt_number": 237,
       "text": [
        "AA     2008-05-19\n",
        "AAPL   2011-10-14\n",
        "GE     2007-10-31\n",
        "IBM    2011-10-14\n",
        "JNJ    2011-07-07\n",
        "MSFT   2007-11-01\n",
        "PEP    2008-01-10\n",
        "SPX    2007-10-31\n",
        "XOM    2008-05-20\n",
        "dtype: datetime64[ns]"
       ]
      }
     ],
     "prompt_number": 237
    },
    {
     "cell_type": "code",
     "collapsed": false,
     "input": [
      "#\n",
      "df.apply(lambda x: x.max() - x.min()) # np.ptp"
     ],
     "language": "python",
     "metadata": {},
     "outputs": [
      {
       "metadata": {},
       "output_type": "pyout",
       "prompt_number": 238,
       "text": [
        "AAPL    52.20\n",
        "IBM     17.24\n",
        "MSFT     2.74\n",
        "dtype: float64"
       ]
      }
     ],
     "prompt_number": 238
    },
    {
     "cell_type": "code",
     "collapsed": false,
     "input": [
      "#np.log(close_px)\n",
      "close_px.head(5)"
     ],
     "language": "python",
     "metadata": {},
     "outputs": [
      {
       "metadata": {},
       "output_type": "pyout",
       "prompt_number": 252,
       "text": [
        "               AA    AAPL     GE     IBM    JNJ   MSFT    PEP      SPX    XOM\n",
        "2007-10-29  37.41  185.09  34.46  106.78  57.13  31.78  65.67  1540.98  85.51\n",
        "2007-10-30  36.43  187.00  34.39  106.15  56.99  32.70  65.80  1531.02  83.25\n",
        "2007-10-31  36.79  189.95  34.97  108.01  57.30  33.84  65.69  1549.38  84.03\n",
        "2007-11-01  35.22  187.44  34.27  105.72  56.85  34.07  64.51  1508.44  80.84\n",
        "2007-11-02  35.83  187.87  34.27  106.59  56.95  34.07  65.03  1509.65  80.32"
       ]
      }
     ],
     "prompt_number": 252
    },
    {
     "cell_type": "code",
     "collapsed": false,
     "input": [
      "close_px.tail(5)"
     ],
     "language": "python",
     "metadata": {},
     "outputs": [
      {
       "metadata": {},
       "output_type": "pyout",
       "prompt_number": 253,
       "text": [
        "               AA    AAPL     GE     IBM    JNJ   MSFT    PEP      SPX    XOM\n",
        "2011-10-10  10.09  388.81  16.14  186.62  64.43  26.94  61.87  1194.89  76.28\n",
        "2011-10-11  10.30  400.29  16.14  185.00  63.96  27.00  60.95  1195.54  76.27\n",
        "2011-10-12  10.05  402.19  16.40  186.12  64.33  26.96  62.70  1207.25  77.16\n",
        "2011-10-13  10.10  408.43  16.22  186.82  64.23  27.18  62.36  1203.66  76.37\n",
        "2011-10-14  10.26  422.00  16.60  190.53  64.72  27.27  62.24  1224.58  78.11"
       ]
      }
     ],
     "prompt_number": 253
    },
    {
     "cell_type": "code",
     "collapsed": false,
     "input": [
      "!head -5 dados/stock_data.csv; echo '\\n';tail -5 dados/stock_data.csv;"
     ],
     "language": "python",
     "metadata": {},
     "outputs": [
      {
       "output_type": "stream",
       "stream": "stdout",
       "text": [
        ",AA,AAPL,GE,IBM,JNJ,MSFT,PEP,SPX,XOM\r\n",
        "2007-10-29 00:00:00,37.41,185.09,34.46,106.78,57.13,31.78,65.67,1540.98,85.51\r\n",
        "2007-10-30 00:00:00,36.43,187.0,34.39,106.15,56.99,32.7,65.8,1531.02,83.25\r\n",
        "2007-10-31 00:00:00,36.79,189.95,34.97,108.01,57.3,33.84,65.69,1549.38,84.03\r\n",
        "2007-11-01 00:00:00,35.22,187.44,34.27,105.72,56.85,34.07,64.51,1508.44,80.84\r\n",
        "\r\n",
        "\r\n",
        "2011-10-10 00:00:00,10.09,388.81,16.14,186.62,64.43,26.94,61.87,1194.89,76.28\r\n",
        "2011-10-11 00:00:00,10.3,400.29,16.14,185.0,63.96,27.0,60.95,1195.54,76.27\r\n",
        "2011-10-12 00:00:00,10.05,402.19,16.4,186.12,64.33,26.96,62.7,1207.25,77.16\r\n",
        "2011-10-13 00:00:00,10.1,408.43,16.22,186.82,64.23,27.18,62.36,1203.66,76.37\r\n",
        "2011-10-14 00:00:00,10.26,422.0,16.6,190.53,64.72,27.27,62.24,1224.58,78.11\r\n"
       ]
      }
     ],
     "prompt_number": 255
    },
    {
     "cell_type": "markdown",
     "metadata": {},
     "source": [
      "##Plotting\n",
      "\n",
      "Algumas plogatens basicas com biblioteca matplotlib aplicadas as Series/ataframes"
     ]
    },
    {
     "cell_type": "code",
     "collapsed": false,
     "input": [
      "#%matplotlib inline\n",
      "close_px[['AAPL','IBM','MSFT','XOM']].plot()"
     ],
     "language": "python",
     "metadata": {},
     "outputs": [
      {
       "metadata": {},
       "output_type": "pyout",
       "prompt_number": 242,
       "text": [
        "<matplotlib.axes.AxesSubplot at 0x7fa0fca67278>"
       ]
      },
      {
       "metadata": {},
       "output_type": "display_data",
       "png": "[encoded data removed]",
       "text": [
        "<matplotlib.figure.Figure at 0x7fa0fca676a0>"
       ]
      }
     ],
     "prompt_number": 242
    },
    {
     "cell_type": "code",
     "collapsed": false,
     "input": [
      "#Mostrando a ultima linha\n",
      "close_px.ix[-1]"
     ],
     "language": "python",
     "metadata": {},
     "outputs": [
      {
       "metadata": {},
       "output_type": "pyout",
       "prompt_number": 260,
       "text": [
        "AA        10.26\n",
        "AAPL     422.00\n",
        "GE        16.60\n",
        "IBM      190.53\n",
        "JNJ       64.72\n",
        "MSFT      27.27\n",
        "PEP       62.24\n",
        "SPX     1224.58\n",
        "XOM       78.11\n",
        "Name: 2011-10-14 00:00:00, dtype: float64"
       ]
      }
     ],
     "prompt_number": 260
    },
    {
     "cell_type": "code",
     "collapsed": false,
     "input": [
      "# Fechamento no ultimo dia (ultima linha)\n",
      "close_px.ix[-1].plot(kind='bar')\n",
      "title('Preco em %s' % close_px.index[-1])\n",
      "axhline(0)"
     ],
     "language": "python",
     "metadata": {},
     "outputs": [
      {
       "metadata": {},
       "output_type": "pyout",
       "prompt_number": 258,
       "text": [
        "<matplotlib.lines.Line2D at 0x7fa0fd261780>"
       ]
      },
      {
       "metadata": {},
       "output_type": "display_data",
       "png": "[encoded data removed]",
       "text": [
        "<matplotlib.figure.Figure at 0x7fa0fca0ff60>"
       ]
      }
     ],
     "prompt_number": 258
    },
    {
     "cell_type": "code",
     "collapsed": false,
     "input": [],
     "language": "python",
     "metadata": {},
     "outputs": []
    }
   ],
   "metadata": {}
  }
 ]
}